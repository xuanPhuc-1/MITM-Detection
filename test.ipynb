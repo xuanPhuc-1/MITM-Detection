{
 "cells": [
  {
   "cell_type": "code",
   "execution_count": 6,
   "metadata": {},
   "outputs": [],
   "source": [
    "import numpy as np\n",
    "import csv\n",
    "import pandas as pd\n",
    "import time\n",
    "\n",
    "time_interval = 2\n",
    "\n",
    "with open('/home/xuanphuc/MITM-Detection/ARP_Broadcast/arp_broadcast.csv', newline='') as f2:\n",
    "    reader = csv.reader(f2)\n",
    "    #format of arp_broadcast.csv: source Mac, time stamp\n",
    "    arp_broadcast = list(reader)"
   ]
  },
  {
   "cell_type": "code",
   "execution_count": 7,
   "metadata": {},
   "outputs": [
    {
     "data": {
      "text/plain": [
       "[['6e:ec:a6:25:4c:82', '1687510128.9822147'],\n",
       " ['6e:ec:a6:25:4c:82', '1687510128.9836144'],\n",
       " ['6e:ec:a6:25:4c:82', '1687510128.985185'],\n",
       " ['6e:ec:a6:25:4c:82', '1687510128.9856508'],\n",
       " ['6e:ec:a6:25:4c:82', '1687510128.986222']]"
      ]
     },
     "execution_count": 7,
     "metadata": {},
     "output_type": "execute_result"
    }
   ],
   "source": [
    "arp_broadcast\n"
   ]
  },
  {
   "cell_type": "code",
   "execution_count": 8,
   "metadata": {},
   "outputs": [
    {
     "data": {
      "text/plain": [
       "['6e:ec:a6:25:4c:82']"
      ]
     },
     "execution_count": 8,
     "metadata": {},
     "output_type": "execute_result"
    }
   ],
   "source": [
    "#unique source Mac\n",
    "unique_sourceMac = []\n",
    "for i in arp_broadcast:\n",
    "    if i[0] not in unique_sourceMac:\n",
    "        unique_sourceMac.append(i[0])\n",
    "\n",
    "unique_sourceMac"
   ]
  },
  {
   "cell_type": "code",
   "execution_count": 15,
   "metadata": {},
   "outputs": [
    {
     "ename": "ValueError",
     "evalue": "invalid literal for int() with base 10: '1687510128.9822147'",
     "output_type": "error",
     "traceback": [
      "\u001b[0;31m---------------------------------------------------------------------------\u001b[0m",
      "\u001b[0;31mValueError\u001b[0m                                Traceback (most recent call last)",
      "Cell \u001b[0;32mIn[15], line 9\u001b[0m\n\u001b[1;32m      7\u001b[0m \u001b[39mfor\u001b[39;00m j \u001b[39min\u001b[39;00m arp_broadcast:\n\u001b[1;32m      8\u001b[0m     \u001b[39mif\u001b[39;00m i \u001b[39m==\u001b[39m j[\u001b[39m0\u001b[39m]:\n\u001b[0;32m----> 9\u001b[0m         \u001b[39mif\u001b[39;00m \u001b[39mint\u001b[39;49m(j[\u001b[39m1\u001b[39;49m]) \u001b[39m>\u001b[39m max_time:\n\u001b[1;32m     10\u001b[0m             max_time \u001b[39m=\u001b[39m \u001b[39mint\u001b[39m(j[\u001b[39m1\u001b[39m])\n\u001b[1;32m     11\u001b[0m \u001b[39mfor\u001b[39;00m k \u001b[39min\u001b[39;00m arp_broadcast:\n",
      "\u001b[0;31mValueError\u001b[0m: invalid literal for int() with base 10: '1687510128.9822147'"
     ]
    }
   ],
   "source": [
    "#count the number of ARP_Broadcast from same source Mac with the largest time stamp and same second\n"
   ]
  },
  {
   "cell_type": "code",
   "execution_count": 8,
   "metadata": {},
   "outputs": [
    {
     "data": {
      "image/png": "[encoded data removed]",
      "text/plain": [
       "<Figure size 640x480 with 1 Axes>"
      ]
     },
     "metadata": {},
     "output_type": "display_data"
    }
   ],
   "source": [
    "from matplotlib import pyplot as plt\n",
    "import csv\n",
    "\n",
    "#load the features-file.csv file and plot the graph \n",
    "#sep = ',' \n",
    "x = []\n",
    "y = []\n",
    "\n",
    "with open('features-file.csv', 'r') as csvfile:\n",
    "    plots = csv.reader(csvfile, delimiter=',')\n",
    "    for row in plots:\n",
    "        y.append(float(row[1]))\n",
    "        x.append(row[3])\n",
    "\n",
    "#plot the graph with x-axis is time_stamp and y-axis is ABPS\n",
    "\n",
    "plots = plt.plot(x,y, label='Loaded from file!')"
   ]
  },
  {
   "cell_type": "code",
   "execution_count": null,
   "metadata": {},
   "outputs": [],
   "source": [
    "#select the last value of last column\n",
    "last_value = y[-1]"
   ]
  },
  {
   "cell_type": "code",
   "execution_count": 2,
   "metadata": {},
   "outputs": [
    {
     "ename": "NameError",
     "evalue": "name 'y1' is not defined",
     "output_type": "error",
     "traceback": [
      "\u001b[0;31m---------------------------------------------------------------------------\u001b[0m",
      "\u001b[0;31mNameError\u001b[0m                                 Traceback (most recent call last)",
      "Cell \u001b[0;32mIn[2], line 5\u001b[0m\n\u001b[1;32m      3\u001b[0m plots \u001b[39m=\u001b[39m csv\u001b[39m.\u001b[39mreader(csvfile, delimiter\u001b[39m=\u001b[39m\u001b[39m'\u001b[39m\u001b[39m,\u001b[39m\u001b[39m'\u001b[39m)\n\u001b[1;32m      4\u001b[0m \u001b[39mfor\u001b[39;00m row \u001b[39min\u001b[39;00m plots:\n\u001b[0;32m----> 5\u001b[0m     y1\u001b[39m.\u001b[39mappend(\u001b[39mfloat\u001b[39m(row[\u001b[39m0\u001b[39m]))\n\u001b[1;32m      6\u001b[0m     y2\u001b[39m.\u001b[39mappend(\u001b[39mfloat\u001b[39m(row[\u001b[39m1\u001b[39m]))    \n\u001b[1;32m      7\u001b[0m     y3\u001b[39m.\u001b[39mappend(\u001b[39mfloat\u001b[39m(row[\u001b[39m2\u001b[39m]))\n",
      "\u001b[0;31mNameError\u001b[0m: name 'y1' is not defined"
     ]
    }
   ],
   "source": [
    "import csv\n",
    "with open('evaluation.csv', 'r') as csvfile:\n",
    "    plots = csv.reader(csvfile, delimiter=',')\n",
    "    for row in plots:\n",
    "        y1.append(float(row[0]))\n",
    "        y2.append(float(row[1]))    \n",
    "        y3.append(float(row[2]))\n",
    "        y4.append(float(row[3]))"
   ]
  }
 ],
 "metadata": {
  "kernelspec": {
   "display_name": "Python 3",
   "language": "python",
   "name": "python3"
  },
  "language_info": {
   "codemirror_mode": {
    "name": "ipython",
    "version": 3
   },
   "file_extension": ".py",
   "mimetype": "text/x-python",
   "name": "python",
   "nbconvert_exporter": "python",
   "pygments_lexer": "ipython3",
   "version": "3.8.17"
  },
  "orig_nbformat": 4
 },
 "nbformat": 4,
 "nbformat_minor": 2
}
