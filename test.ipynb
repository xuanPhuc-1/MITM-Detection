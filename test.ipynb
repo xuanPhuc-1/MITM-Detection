{
 "cells": [
  {
   "cell_type": "code",
   "execution_count": 13,
   "metadata": {},
   "outputs": [],
   "source": [
    "import numpy as np\n",
    "import csv\n",
    "import pandas as pd\n",
    "# from scipy.stats import entropy\n",
    "\n",
    "\n",
    "\n",
    "time_interval = 2\n",
    "\n",
    "\n",
    "# Number of source IPs\n",
    "# Speed of source IP (SSIP), number of source IPs per unit of time\n",
    "# SSIP = Number of different IP sources / T period\n",
    "with open('ARP_data/ARP_Reply_flowentries.csv', newline='') as f:\n",
    "    reader = csv.reader(f)\n",
    "    ARP_Reply = list(reader)\n",
    "with open('/home/xuanphuc/MITM-Detection/ARP_data/eth_src_reply.csv', newline='') as f1:\n",
    "    reader = csv.reader(f1)\n",
    "    eth_src_reply = list(reader)\n",
    "with open('/home/xuanphuc/MITM-Detection/ARP_data/ip_dst_reply.csv', newline='') as f2:\n",
    "    reader = csv.reader(f2)\n",
    "    ip_dst_reply = list(reader)\n",
    "\n",
    "f.close()\n",
    "f1.close()\n",
    "f2.close()\n",
    "#count the number of ARP_Reply packets which have the same eth_src and ip_dst \n",
    "#get unique eth_src and ip_dst\n",
    "eth_src_reply = np.unique(eth_src_reply)\n",
    "ip_dst_reply = np.unique(ip_dst_reply)\n",
    "\n",
    "\n",
    "\n",
    "\n"
   ]
  },
  {
   "cell_type": "code",
   "execution_count": 11,
   "metadata": {},
   "outputs": [],
   "source": []
  },
  {
   "cell_type": "code",
   "execution_count": 14,
   "metadata": {},
   "outputs": [],
   "source": [
    "#get the number of ARP_Reply packets which have the same eth_src and ip_dst \n",
    "\n",
    "\n"
   ]
  },
  {
   "cell_type": "code",
   "execution_count": 15,
   "metadata": {},
   "outputs": [
    {
     "data": {
      "text/plain": [
       "0"
      ]
     },
     "execution_count": 15,
     "metadata": {},
     "output_type": "execute_result"
    }
   ],
   "source": []
  },
  {
   "attachments": {},
   "cell_type": "markdown",
   "metadata": {},
   "source": []
  },
  {
   "cell_type": "code",
   "execution_count": null,
   "metadata": {},
   "outputs": [],
   "source": []
  },
  {
   "cell_type": "code",
   "execution_count": null,
   "metadata": {},
   "outputs": [],
   "source": []
  },
  {
   "cell_type": "code",
   "execution_count": null,
   "metadata": {},
   "outputs": [],
   "source": []
  },
  {
   "cell_type": "code",
   "execution_count": null,
   "metadata": {},
   "outputs": [],
   "source": []
  },
  {
   "cell_type": "code",
   "execution_count": null,
   "metadata": {},
   "outputs": [],
   "source": []
  },
  {
   "cell_type": "code",
   "execution_count": null,
   "metadata": {},
   "outputs": [],
   "source": []
  },
  {
   "cell_type": "code",
   "execution_count": null,
   "metadata": {},
   "outputs": [],
   "source": []
  },
  {
   "cell_type": "code",
   "execution_count": null,
   "metadata": {},
   "outputs": [],
   "source": []
  },
  {
   "cell_type": "code",
   "execution_count": null,
   "metadata": {},
   "outputs": [],
   "source": []
  },
  {
   "cell_type": "code",
   "execution_count": null,
   "metadata": {},
   "outputs": [],
   "source": []
  },
  {
   "cell_type": "code",
   "execution_count": null,
   "metadata": {},
   "outputs": [],
   "source": []
  },
  {
   "cell_type": "code",
   "execution_count": null,
   "metadata": {},
   "outputs": [],
   "source": []
  }
 ],
 "metadata": {
  "kernelspec": {
   "display_name": "Python 3",
   "language": "python",
   "name": "python3"
  },
  "language_info": {
   "codemirror_mode": {
    "name": "ipython",
    "version": 3
   },
   "file_extension": ".py",
   "mimetype": "text/x-python",
   "name": "python",
   "nbconvert_exporter": "python",
   "pygments_lexer": "ipython3",
   "version": "3.8.0"
  },
  "orig_nbformat": 4
 },
 "nbformat": 4,
 "nbformat_minor": 2
}
