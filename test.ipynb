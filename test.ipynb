{
 "cells": [
  {
   "cell_type": "code",
   "execution_count": 37,
   "metadata": {},
   "outputs": [
    {
     "name": "stdout",
     "output_type": "stream",
     "text": [
      "OFPST_FLOW reply (OF1.3) (xid=0x2):\n",
      " cookie=0x0, duration=26.572s, table=0, n_packets=26, n_bytes=2548, idle_timeout=10, hard_timeout=30, reset_counts priority=65535,icmp,in_port=1,vlan_tci=0x0000/0x1fff,dl_src=6e:04:6d:24:4f:62,dl_dst=ca:55:76:a6:0d:43,nw_src=10.0.0.1,nw_dst=10.0.0.7,nw_tos=0,icmp_type=8,icmp_code=0 actions=output:2\n",
      " cookie=0x0, duration=26.563s, table=0, n_packets=26, n_bytes=2548, idle_timeout=10, hard_timeout=30, reset_counts priority=65535,icmp,in_port=2,vlan_tci=0x0000/0x1fff,dl_src=ca:55:76:a6:0d:43,dl_dst=6e:04:6d:24:4f:62,nw_src=10.0.0.7,nw_dst=10.0.0.1,nw_tos=0,icmp_type=0,icmp_code=0 actions=output:1\n",
      "\n"
     ]
    }
   ],
   "source": [
    "#read data from flow1.txt \n",
    "fileObject = open(\"flow1.txt\", \"r\")\n",
    "data = fileObject.read()\n",
    "print(data)"
   ]
  },
  {
   "cell_type": "code",
   "execution_count": 38,
   "metadata": {},
   "outputs": [
    {
     "data": {
      "text/plain": [
       "str"
      ]
     },
     "execution_count": 38,
     "metadata": {},
     "output_type": "execute_result"
    }
   ],
   "source": [
    "type(data)\n"
   ]
  },
  {
   "cell_type": "code",
   "execution_count": 39,
   "metadata": {},
   "outputs": [
    {
     "name": "stdout",
     "output_type": "stream",
     "text": [
      " cookie=0x0, duration=26.572s, table=0, n_packets=26, n_bytes=2548, idle_timeout=10, hard_timeout=30, reset_counts priority=65535,icmp,in_port=1,vlan_tci=0x0000/0x1fff,dl_src=6e:04:6d:24:4f:62,dl_dst=ca:55:76:a6:0d:43,nw_src=10.0.0.1,nw_dst=10.0.0.7,nw_tos=0,icmp_type=8,icmp_code=0 actions=output:2\n",
      " cookie=0x0, duration=26.563s, table=0, n_packets=26, n_bytes=2548, idle_timeout=10, hard_timeout=30, reset_counts priority=65535,icmp,in_port=2,vlan_tci=0x0000/0x1fff,dl_src=ca:55:76:a6:0d:43,dl_dst=6e:04:6d:24:4f:62,nw_src=10.0.0.7,nw_dst=10.0.0.1,nw_tos=0,icmp_type=0,icmp_code=0 actions=output:1\n",
      "\n"
     ]
    }
   ],
   "source": [
    "#remove the first element\n",
    "data = data.split(\"\\n\")[1:]\n",
    "#convert list to string \n",
    "data = \"\\n\".join(data)\n",
    "print(data)\n"
   ]
  },
  {
   "cell_type": "code",
   "execution_count": 40,
   "metadata": {},
   "outputs": [
    {
     "name": "stdout",
     "output_type": "stream",
     "text": [
      "[' ']\n"
     ]
    }
   ],
   "source": [
    "\n"
   ]
  },
  {
   "cell_type": "markdown",
   "metadata": {},
   "source": []
  },
  {
   "cell_type": "code",
   "execution_count": 41,
   "metadata": {},
   "outputs": [],
   "source": []
  },
  {
   "cell_type": "code",
   "execution_count": 42,
   "metadata": {},
   "outputs": [],
   "source": [
    "#create header for the data\n",
    "header = [\"Source MAC\", \"Destination MAC\", \"Source IP\", \"Destination IP\",\"Response Time\", \"Number of ARP packets\"]\n"
   ]
  },
  {
   "cell_type": "code",
   "execution_count": null,
   "metadata": {},
   "outputs": [],
   "source": []
  },
  {
   "cell_type": "code",
   "execution_count": null,
   "metadata": {},
   "outputs": [],
   "source": []
  },
  {
   "cell_type": "code",
   "execution_count": null,
   "metadata": {},
   "outputs": [],
   "source": []
  },
  {
   "cell_type": "code",
   "execution_count": null,
   "metadata": {},
   "outputs": [],
   "source": []
  },
  {
   "cell_type": "code",
   "execution_count": null,
   "metadata": {},
   "outputs": [],
   "source": []
  },
  {
   "cell_type": "code",
   "execution_count": null,
   "metadata": {},
   "outputs": [],
   "source": []
  },
  {
   "cell_type": "code",
   "execution_count": null,
   "metadata": {},
   "outputs": [],
   "source": []
  },
  {
   "cell_type": "code",
   "execution_count": null,
   "metadata": {},
   "outputs": [],
   "source": []
  },
  {
   "cell_type": "code",
   "execution_count": null,
   "metadata": {},
   "outputs": [],
   "source": []
  },
  {
   "cell_type": "code",
   "execution_count": null,
   "metadata": {},
   "outputs": [],
   "source": []
  }
 ],
 "metadata": {
  "kernelspec": {
   "display_name": "Python 3",
   "language": "python",
   "name": "python3"
  },
  "language_info": {
   "codemirror_mode": {
    "name": "ipython",
    "version": 3
   },
   "file_extension": ".py",
   "mimetype": "text/x-python",
   "name": "python",
   "nbconvert_exporter": "python",
   "pygments_lexer": "ipython3",
   "version": "3.8.0"
  },
  "orig_nbformat": 4
 },
 "nbformat": 4,
 "nbformat_minor": 2
}
