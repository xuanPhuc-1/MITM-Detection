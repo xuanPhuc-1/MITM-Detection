{
  "cells": [
    {
      "cell_type": "code",
      "execution_count": 1,
      "metadata": {
        "id": "SeTJsVjI2HC5"
      },
      "outputs": [
        {
          "name": "stderr",
          "output_type": "stream",
          "text": [
            "2024-01-13 08:19:00.277636: I tensorflow/tsl/cuda/cudart_stub.cc:28] Could not find cuda drivers on your machine, GPU will not be used.\n",
            "2024-01-13 08:19:00.388486: I tensorflow/tsl/cuda/cudart_stub.cc:28] Could not find cuda drivers on your machine, GPU will not be used.\n",
            "2024-01-13 08:19:00.390693: I tensorflow/core/platform/cpu_feature_guard.cc:182] This TensorFlow binary is optimized to use available CPU instructions in performance-critical operations.\n",
            "To enable the following instructions: AVX2 FMA, in other operations, rebuild TensorFlow with the appropriate compiler flags.\n",
            "2024-01-13 08:19:02.349659: W tensorflow/compiler/tf2tensorrt/utils/py_utils.cc:38] TF-TRT Warning: Could not find TensorRT\n"
          ]
        }
      ],
      "source": [
        "import numpy as np\n",
        "import matplotlib.pyplot as plt\n",
        "import pandas as pd\n",
        "import tensorflow as tf\n",
        "from tensorflow.keras.models import Sequential\n",
        "from tensorflow.keras.layers import Dense\n",
        "from tensorflow.keras.layers import LSTM\n",
        "from sklearn.preprocessing import MinMaxScaler\n",
        "from sklearn.metrics import mean_squared_error\n",
        "from sklearn.model_selection import train_test_split\n",
        "from sklearn.metrics import confusion_matrix\n",
        "import seaborn as sns"
      ]
    },
    {
      "cell_type": "code",
      "execution_count": 2,
      "metadata": {
        "id": "7b8WWrAD2ap9"
      },
      "outputs": [],
      "source": [
        "df = pd.read_csv('~/MITM-Detection/dataset.csv')"
      ]
    },
    {
      "cell_type": "code",
      "execution_count": 3,
      "metadata": {
        "colab": {
          "base_uri": "https://localhost:8080/"
        },
        "id": "YgDEte5k3GRc",
        "outputId": "66c74c63-29fe-4cd2-b26c-46e0cb6f2d94"
      },
      "outputs": [
        {
          "name": "stdout",
          "output_type": "stream",
          "text": [
            "           0  6.666666667  0.1  0.2  0.3\n",
            "0   8.000000    61.666667   24    0    0\n",
            "1  18.000000    43.333333   54    0    0\n",
            "2  23.666667    41.333333   71    0    0\n",
            "3  37.666667    38.333333   91    0    0\n",
            "4  52.333333    25.000000   95    0    0\n"
          ]
        }
      ],
      "source": [
        "\n",
        "# Display the first few rows of the DataFrame\n",
        "print(df.head())\n",
        "\n",
        "# Extract features and labels\n",
        "X = df.iloc[:, :-1]  # Features (all columns except the last one)\n",
        "y = df.iloc[:, -1]   # Labels (last column)\n",
        "\n",
        "# Chia dữ liệu thành tập huấn luyện và tập kiểm tra\n",
        "X_train, X_test, y_train, y_test = train_test_split(X, y, test_size=0.2, random_state=42)\n",
        "\n",
        "# Reshape dữ liệu để phù hợp với đầu vào của Conv1D\n",
        "X_train = X_train.values.reshape(X_train.shape[0], X_train.shape[1], 1)\n",
        "X_test = X_test.values.reshape(X_test.shape[0], X_test.shape[1], 1)"
      ]
    },
    {
      "cell_type": "code",
      "execution_count": 4,
      "metadata": {
        "id": "eodtVSqn3oUK"
      },
      "outputs": [],
      "source": [
        "# model = Sequential()\n",
        "# model.add(Conv1D(32, kernel_size=3, activation='relu', input_shape=(X_train.shape[1], 1)))\n",
        "# model.add(MaxPooling1D(pool_size=2))\n",
        "# model.add(Flatten())\n",
        "# model.add(Dense(1, activation='sigmoid'))"
      ]
    },
    {
      "cell_type": "code",
      "execution_count": 5,
      "metadata": {
        "colab": {
          "base_uri": "https://localhost:8080/"
        },
        "id": "ZC3V-BvQ3uVS",
        "outputId": "3b88535e-cf32-46bd-898e-c3ea88ebabe0"
      },
      "outputs": [
        {
          "name": "stdout",
          "output_type": "stream",
          "text": [
            "Epoch 1/100\n",
            "1179/1179 - 11s - loss: 0.3326 - accuracy: 0.8882 - val_loss: 0.1130 - val_accuracy: 0.9727 - 11s/epoch - 9ms/step\n",
            "Epoch 2/100\n",
            "1179/1179 - 5s - loss: 0.1146 - accuracy: 0.9733 - val_loss: 0.1168 - val_accuracy: 0.9742 - 5s/epoch - 4ms/step\n",
            "Epoch 3/100\n",
            "1179/1179 - 5s - loss: 0.1239 - accuracy: 0.9746 - val_loss: 0.1853 - val_accuracy: 0.9742 - 5s/epoch - 4ms/step\n",
            "Epoch 4/100\n",
            "1179/1179 - 5s - loss: 0.1314 - accuracy: 0.9746 - val_loss: 0.1852 - val_accuracy: 0.9742 - 5s/epoch - 4ms/step\n",
            "Epoch 5/100\n",
            "1179/1179 - 5s - loss: 0.1227 - accuracy: 0.9746 - val_loss: 0.1387 - val_accuracy: 0.9742 - 5s/epoch - 4ms/step\n",
            "Epoch 6/100\n",
            "1179/1179 - 5s - loss: 0.1347 - accuracy: 0.9746 - val_loss: 0.1281 - val_accuracy: 0.9742 - 5s/epoch - 4ms/step\n",
            "Epoch 7/100\n",
            "1179/1179 - 5s - loss: 0.1164 - accuracy: 0.9746 - val_loss: 0.1275 - val_accuracy: 0.9742 - 5s/epoch - 4ms/step\n",
            "Epoch 8/100\n",
            "1179/1179 - 5s - loss: 0.1259 - accuracy: 0.9746 - val_loss: 0.1498 - val_accuracy: 0.9742 - 5s/epoch - 4ms/step\n",
            "Epoch 9/100\n",
            "1179/1179 - 5s - loss: 0.1359 - accuracy: 0.9746 - val_loss: 0.0993 - val_accuracy: 0.9742 - 5s/epoch - 4ms/step\n",
            "Epoch 10/100\n",
            "1179/1179 - 5s - loss: 0.1168 - accuracy: 0.9746 - val_loss: 0.1830 - val_accuracy: 0.9742 - 5s/epoch - 4ms/step\n",
            "Epoch 11/100\n",
            "1179/1179 - 5s - loss: 0.1267 - accuracy: 0.9746 - val_loss: 0.1273 - val_accuracy: 0.9742 - 5s/epoch - 4ms/step\n",
            "Epoch 12/100\n",
            "1179/1179 - 5s - loss: 0.1220 - accuracy: 0.9746 - val_loss: 0.1329 - val_accuracy: 0.9742 - 5s/epoch - 4ms/step\n",
            "Epoch 13/100\n",
            "1179/1179 - 6s - loss: 0.1197 - accuracy: 0.9746 - val_loss: 0.1740 - val_accuracy: 0.9742 - 6s/epoch - 5ms/step\n",
            "Epoch 14/100\n",
            "1179/1179 - 5s - loss: 0.1661 - accuracy: 0.9746 - val_loss: 0.1953 - val_accuracy: 0.9742 - 5s/epoch - 4ms/step\n",
            "Epoch 15/100\n",
            "1179/1179 - 5s - loss: 0.1622 - accuracy: 0.9746 - val_loss: 0.1375 - val_accuracy: 0.9742 - 5s/epoch - 4ms/step\n",
            "Epoch 16/100\n",
            "1179/1179 - 5s - loss: 0.1666 - accuracy: 0.9746 - val_loss: 0.1159 - val_accuracy: 0.9742 - 5s/epoch - 4ms/step\n",
            "Epoch 17/100\n",
            "1179/1179 - 6s - loss: 0.1846 - accuracy: 0.9746 - val_loss: 0.1446 - val_accuracy: 0.9742 - 6s/epoch - 5ms/step\n",
            "Epoch 18/100\n",
            "1179/1179 - 5s - loss: 0.1651 - accuracy: 0.9746 - val_loss: 0.2007 - val_accuracy: 0.9742 - 5s/epoch - 4ms/step\n",
            "Epoch 19/100\n",
            "1179/1179 - 5s - loss: 0.1654 - accuracy: 0.9746 - val_loss: 0.1221 - val_accuracy: 0.9742 - 5s/epoch - 4ms/step\n",
            "Epoch 20/100\n",
            "1179/1179 - 5s - loss: 0.1703 - accuracy: 0.9746 - val_loss: 0.2162 - val_accuracy: 0.9742 - 5s/epoch - 4ms/step\n",
            "Epoch 21/100\n",
            "1179/1179 - 5s - loss: 0.1760 - accuracy: 0.9746 - val_loss: 0.2038 - val_accuracy: 0.9742 - 5s/epoch - 4ms/step\n",
            "Epoch 22/100\n",
            "1179/1179 - 5s - loss: 0.1746 - accuracy: 0.9746 - val_loss: 0.2068 - val_accuracy: 0.9742 - 5s/epoch - 4ms/step\n",
            "Epoch 23/100\n",
            "1179/1179 - 5s - loss: 0.1762 - accuracy: 0.9746 - val_loss: 0.1676 - val_accuracy: 0.9742 - 5s/epoch - 4ms/step\n",
            "Epoch 24/100\n",
            "1179/1179 - 5s - loss: 0.1714 - accuracy: 0.9746 - val_loss: 0.1343 - val_accuracy: 0.9742 - 5s/epoch - 4ms/step\n",
            "Epoch 25/100\n",
            "1179/1179 - 5s - loss: 0.1925 - accuracy: 0.9746 - val_loss: 0.2200 - val_accuracy: 0.9742 - 5s/epoch - 4ms/step\n",
            "Epoch 26/100\n",
            "1179/1179 - 5s - loss: 0.1966 - accuracy: 0.9746 - val_loss: 0.2130 - val_accuracy: 0.9742 - 5s/epoch - 4ms/step\n",
            "Epoch 27/100\n",
            "1179/1179 - 5s - loss: 0.1981 - accuracy: 0.9746 - val_loss: 0.2409 - val_accuracy: 0.9742 - 5s/epoch - 4ms/step\n",
            "Epoch 28/100\n",
            "1179/1179 - 5s - loss: 0.1994 - accuracy: 0.9746 - val_loss: 0.1554 - val_accuracy: 0.9742 - 5s/epoch - 4ms/step\n",
            "Epoch 29/100\n",
            "1179/1179 - 5s - loss: 0.2196 - accuracy: 0.9746 - val_loss: 0.1827 - val_accuracy: 0.9742 - 5s/epoch - 4ms/step\n",
            "Epoch 30/100\n",
            "1179/1179 - 5s - loss: 0.2400 - accuracy: 0.9746 - val_loss: 0.2604 - val_accuracy: 0.9742 - 5s/epoch - 4ms/step\n",
            "Epoch 31/100\n",
            "1179/1179 - 5s - loss: 0.2386 - accuracy: 0.9746 - val_loss: 0.2596 - val_accuracy: 0.9742 - 5s/epoch - 4ms/step\n",
            "Epoch 32/100\n",
            "1179/1179 - 5s - loss: 0.2379 - accuracy: 0.9746 - val_loss: 0.2597 - val_accuracy: 0.9742 - 5s/epoch - 4ms/step\n",
            "Epoch 33/100\n",
            "1179/1179 - 5s - loss: 0.2471 - accuracy: 0.9746 - val_loss: 0.2607 - val_accuracy: 0.9742 - 5s/epoch - 4ms/step\n",
            "Epoch 34/100\n",
            "1179/1179 - 5s - loss: 0.2467 - accuracy: 0.9746 - val_loss: 0.2406 - val_accuracy: 0.9742 - 5s/epoch - 4ms/step\n",
            "Epoch 35/100\n",
            "1179/1179 - 5s - loss: 0.2484 - accuracy: 0.9746 - val_loss: 0.2598 - val_accuracy: 0.9742 - 5s/epoch - 4ms/step\n",
            "Epoch 36/100\n",
            "1179/1179 - 5s - loss: 0.2482 - accuracy: 0.9746 - val_loss: 0.2597 - val_accuracy: 0.9742 - 5s/epoch - 4ms/step\n",
            "Epoch 37/100\n",
            "1179/1179 - 5s - loss: 0.2473 - accuracy: 0.9746 - val_loss: 0.2617 - val_accuracy: 0.9742 - 5s/epoch - 4ms/step\n",
            "Epoch 38/100\n",
            "1179/1179 - 5s - loss: 0.2462 - accuracy: 0.9746 - val_loss: 0.2598 - val_accuracy: 0.9742 - 5s/epoch - 4ms/step\n",
            "Epoch 39/100\n",
            "1179/1179 - 5s - loss: 0.2446 - accuracy: 0.9746 - val_loss: 0.2631 - val_accuracy: 0.9742 - 5s/epoch - 4ms/step\n",
            "Epoch 40/100\n",
            "1179/1179 - 5s - loss: 0.2477 - accuracy: 0.9746 - val_loss: 0.2602 - val_accuracy: 0.9742 - 5s/epoch - 4ms/step\n",
            "Epoch 41/100\n",
            "1179/1179 - 5s - loss: 0.2492 - accuracy: 0.9746 - val_loss: 0.2598 - val_accuracy: 0.9742 - 5s/epoch - 4ms/step\n",
            "Epoch 42/100\n",
            "1179/1179 - 5s - loss: 0.2498 - accuracy: 0.9746 - val_loss: 0.2596 - val_accuracy: 0.9742 - 5s/epoch - 4ms/step\n",
            "Epoch 43/100\n",
            "1179/1179 - 5s - loss: 0.2493 - accuracy: 0.9746 - val_loss: 0.2599 - val_accuracy: 0.9742 - 5s/epoch - 4ms/step\n",
            "Epoch 44/100\n",
            "1179/1179 - 5s - loss: 0.2492 - accuracy: 0.9746 - val_loss: 0.2598 - val_accuracy: 0.9742 - 5s/epoch - 4ms/step\n",
            "Epoch 45/100\n",
            "1179/1179 - 5s - loss: 0.2492 - accuracy: 0.9746 - val_loss: 0.2611 - val_accuracy: 0.9742 - 5s/epoch - 4ms/step\n",
            "Epoch 46/100\n",
            "1179/1179 - 5s - loss: 0.2490 - accuracy: 0.9746 - val_loss: 0.2597 - val_accuracy: 0.9742 - 5s/epoch - 4ms/step\n",
            "Epoch 47/100\n",
            "1179/1179 - 5s - loss: 0.2520 - accuracy: 0.9746 - val_loss: 0.2597 - val_accuracy: 0.9742 - 5s/epoch - 4ms/step\n",
            "Epoch 48/100\n",
            "1179/1179 - 5s - loss: 0.2515 - accuracy: 0.9745 - val_loss: 0.2511 - val_accuracy: 0.9742 - 5s/epoch - 4ms/step\n",
            "Epoch 49/100\n",
            "1179/1179 - 5s - loss: 0.2494 - accuracy: 0.9746 - val_loss: 0.2596 - val_accuracy: 0.9742 - 5s/epoch - 4ms/step\n",
            "Epoch 50/100\n",
            "1179/1179 - 5s - loss: 0.2490 - accuracy: 0.9746 - val_loss: 0.2549 - val_accuracy: 0.9742 - 5s/epoch - 4ms/step\n",
            "Epoch 51/100\n",
            "1179/1179 - 5s - loss: 0.2493 - accuracy: 0.9746 - val_loss: 0.2598 - val_accuracy: 0.9742 - 5s/epoch - 4ms/step\n",
            "Epoch 52/100\n",
            "1179/1179 - 5s - loss: 0.2494 - accuracy: 0.9746 - val_loss: 0.2598 - val_accuracy: 0.9742 - 5s/epoch - 4ms/step\n",
            "Epoch 53/100\n",
            "1179/1179 - 5s - loss: 0.2493 - accuracy: 0.9746 - val_loss: 0.2598 - val_accuracy: 0.9742 - 5s/epoch - 4ms/step\n",
            "Epoch 54/100\n",
            "1179/1179 - 5s - loss: 0.2496 - accuracy: 0.9746 - val_loss: 0.2594 - val_accuracy: 0.9742 - 5s/epoch - 4ms/step\n",
            "Epoch 55/100\n",
            "1179/1179 - 5s - loss: 0.2481 - accuracy: 0.9746 - val_loss: 0.2421 - val_accuracy: 0.9746 - 5s/epoch - 4ms/step\n",
            "Epoch 56/100\n",
            "1179/1179 - 5s - loss: 0.2452 - accuracy: 0.9746 - val_loss: 0.2594 - val_accuracy: 0.9742 - 5s/epoch - 4ms/step\n",
            "Epoch 57/100\n",
            "1179/1179 - 5s - loss: 0.2493 - accuracy: 0.9746 - val_loss: 0.2594 - val_accuracy: 0.9742 - 5s/epoch - 4ms/step\n",
            "Epoch 58/100\n",
            "1179/1179 - 5s - loss: 0.2496 - accuracy: 0.9746 - val_loss: 0.2602 - val_accuracy: 0.9742 - 5s/epoch - 4ms/step\n",
            "Epoch 59/100\n",
            "1179/1179 - 5s - loss: 0.2504 - accuracy: 0.9746 - val_loss: 0.2596 - val_accuracy: 0.9742 - 5s/epoch - 4ms/step\n",
            "Epoch 60/100\n",
            "1179/1179 - 5s - loss: 0.2493 - accuracy: 0.9747 - val_loss: 0.2596 - val_accuracy: 0.9742 - 5s/epoch - 4ms/step\n",
            "Epoch 61/100\n",
            "1179/1179 - 6s - loss: 0.2461 - accuracy: 0.9746 - val_loss: 0.2515 - val_accuracy: 0.9742 - 6s/epoch - 5ms/step\n",
            "Epoch 62/100\n",
            "1179/1179 - 5s - loss: 0.2487 - accuracy: 0.9747 - val_loss: 0.2596 - val_accuracy: 0.9746 - 5s/epoch - 5ms/step\n",
            "Epoch 63/100\n",
            "1179/1179 - 5s - loss: 0.2493 - accuracy: 0.9747 - val_loss: 0.2594 - val_accuracy: 0.9746 - 5s/epoch - 4ms/step\n",
            "Epoch 64/100\n",
            "1179/1179 - 5s - loss: 0.2495 - accuracy: 0.9747 - val_loss: 0.2608 - val_accuracy: 0.9742 - 5s/epoch - 5ms/step\n",
            "Epoch 65/100\n",
            "1179/1179 - 5s - loss: 0.2493 - accuracy: 0.9748 - val_loss: 0.2594 - val_accuracy: 0.9746 - 5s/epoch - 5ms/step\n",
            "Epoch 66/100\n",
            "1179/1179 - 6s - loss: 0.2492 - accuracy: 0.9748 - val_loss: 0.2593 - val_accuracy: 0.9746 - 6s/epoch - 5ms/step\n",
            "Epoch 67/100\n",
            "1179/1179 - 6s - loss: 0.2495 - accuracy: 0.9748 - val_loss: 0.2592 - val_accuracy: 0.9746 - 6s/epoch - 5ms/step\n",
            "Epoch 68/100\n",
            "1179/1179 - 5s - loss: 0.2469 - accuracy: 0.9748 - val_loss: 0.2592 - val_accuracy: 0.9746 - 5s/epoch - 4ms/step\n",
            "Epoch 69/100\n",
            "1179/1179 - 6s - loss: 0.2486 - accuracy: 0.9748 - val_loss: 0.2592 - val_accuracy: 0.9746 - 6s/epoch - 5ms/step\n",
            "Epoch 70/100\n",
            "1179/1179 - 6s - loss: 0.2492 - accuracy: 0.9748 - val_loss: 0.2607 - val_accuracy: 0.9746 - 6s/epoch - 5ms/step\n",
            "Epoch 71/100\n",
            "1179/1179 - 5s - loss: 0.2492 - accuracy: 0.9748 - val_loss: 0.2592 - val_accuracy: 0.9746 - 5s/epoch - 4ms/step\n",
            "Epoch 72/100\n",
            "1179/1179 - 5s - loss: 0.2475 - accuracy: 0.9748 - val_loss: 0.2557 - val_accuracy: 0.9746 - 5s/epoch - 4ms/step\n",
            "Epoch 73/100\n",
            "1179/1179 - 5s - loss: 0.2483 - accuracy: 0.9748 - val_loss: 0.2608 - val_accuracy: 0.9746 - 5s/epoch - 4ms/step\n",
            "Epoch 74/100\n",
            "1179/1179 - 5s - loss: 0.2481 - accuracy: 0.9748 - val_loss: 0.2539 - val_accuracy: 0.9746 - 5s/epoch - 4ms/step\n",
            "Epoch 75/100\n",
            "1179/1179 - 5s - loss: 0.2474 - accuracy: 0.9748 - val_loss: 0.2602 - val_accuracy: 0.9746 - 5s/epoch - 4ms/step\n",
            "Epoch 76/100\n",
            "1179/1179 - 5s - loss: 0.2490 - accuracy: 0.9748 - val_loss: 0.2591 - val_accuracy: 0.9746 - 5s/epoch - 4ms/step\n",
            "Epoch 77/100\n",
            "1179/1179 - 5s - loss: 0.2518 - accuracy: 0.9748 - val_loss: 0.3826 - val_accuracy: 0.9742 - 5s/epoch - 4ms/step\n",
            "Epoch 78/100\n",
            "1179/1179 - 5s - loss: 0.2714 - accuracy: 0.9748 - val_loss: 0.2552 - val_accuracy: 0.9746 - 5s/epoch - 4ms/step\n",
            "Epoch 79/100\n",
            "1179/1179 - 5s - loss: 0.2492 - accuracy: 0.9748 - val_loss: 0.2552 - val_accuracy: 0.9746 - 5s/epoch - 4ms/step\n",
            "Epoch 80/100\n",
            "1179/1179 - 5s - loss: 0.2487 - accuracy: 0.9748 - val_loss: 0.2591 - val_accuracy: 0.9746 - 5s/epoch - 4ms/step\n",
            "Epoch 81/100\n",
            "1179/1179 - 5s - loss: 0.2482 - accuracy: 0.9748 - val_loss: 0.2549 - val_accuracy: 0.9746 - 5s/epoch - 4ms/step\n",
            "Epoch 82/100\n",
            "1179/1179 - 5s - loss: 0.2477 - accuracy: 0.9748 - val_loss: 0.2549 - val_accuracy: 0.9746 - 5s/epoch - 4ms/step\n",
            "Epoch 83/100\n",
            "1179/1179 - 5s - loss: 0.2480 - accuracy: 0.9748 - val_loss: 0.2550 - val_accuracy: 0.9746 - 5s/epoch - 4ms/step\n",
            "Epoch 84/100\n",
            "1179/1179 - 5s - loss: 0.2472 - accuracy: 0.9748 - val_loss: 0.2551 - val_accuracy: 0.9746 - 5s/epoch - 4ms/step\n",
            "Epoch 85/100\n",
            "1179/1179 - 5s - loss: 0.2484 - accuracy: 0.9748 - val_loss: 0.2613 - val_accuracy: 0.9746 - 5s/epoch - 4ms/step\n",
            "Epoch 86/100\n",
            "1179/1179 - 5s - loss: 0.2472 - accuracy: 0.9748 - val_loss: 0.2546 - val_accuracy: 0.9746 - 5s/epoch - 4ms/step\n",
            "Epoch 87/100\n",
            "1179/1179 - 5s - loss: 0.2475 - accuracy: 0.9748 - val_loss: 0.2547 - val_accuracy: 0.9746 - 5s/epoch - 4ms/step\n",
            "Epoch 88/100\n",
            "1179/1179 - 5s - loss: 0.2480 - accuracy: 0.9748 - val_loss: 0.2594 - val_accuracy: 0.9746 - 5s/epoch - 4ms/step\n",
            "Epoch 89/100\n",
            "1179/1179 - 5s - loss: 0.2462 - accuracy: 0.9748 - val_loss: 0.2614 - val_accuracy: 0.9746 - 5s/epoch - 4ms/step\n",
            "Epoch 90/100\n",
            "1179/1179 - 5s - loss: 0.2511 - accuracy: 0.9748 - val_loss: 0.2546 - val_accuracy: 0.9746 - 5s/epoch - 4ms/step\n",
            "Epoch 91/100\n",
            "1179/1179 - 6s - loss: 0.2484 - accuracy: 0.9748 - val_loss: 0.2590 - val_accuracy: 0.9746 - 6s/epoch - 5ms/step\n",
            "Epoch 92/100\n",
            "1179/1179 - 5s - loss: 0.2472 - accuracy: 0.9748 - val_loss: 0.2592 - val_accuracy: 0.9746 - 5s/epoch - 4ms/step\n",
            "Epoch 93/100\n",
            "1179/1179 - 5s - loss: 0.2484 - accuracy: 0.9748 - val_loss: 0.2595 - val_accuracy: 0.9746 - 5s/epoch - 4ms/step\n",
            "Epoch 94/100\n",
            "1179/1179 - 5s - loss: 0.2485 - accuracy: 0.9748 - val_loss: 0.2552 - val_accuracy: 0.9746 - 5s/epoch - 5ms/step\n",
            "Epoch 95/100\n",
            "1179/1179 - 5s - loss: 0.2707 - accuracy: 0.9748 - val_loss: 0.3895 - val_accuracy: 0.9742 - 5s/epoch - 4ms/step\n",
            "Epoch 96/100\n",
            "1179/1179 - 6s - loss: 0.2678 - accuracy: 0.9747 - val_loss: 0.2545 - val_accuracy: 0.9746 - 6s/epoch - 5ms/step\n",
            "Epoch 97/100\n",
            "1179/1179 - 6s - loss: 0.2476 - accuracy: 0.9748 - val_loss: 0.2516 - val_accuracy: 0.9746 - 6s/epoch - 5ms/step\n",
            "Epoch 98/100\n",
            "1179/1179 - 5s - loss: 0.2472 - accuracy: 0.9748 - val_loss: 0.2564 - val_accuracy: 0.9746 - 5s/epoch - 4ms/step\n",
            "Epoch 99/100\n",
            "1179/1179 - 5s - loss: 0.2472 - accuracy: 0.9748 - val_loss: 0.2536 - val_accuracy: 0.9746 - 5s/epoch - 4ms/step\n",
            "Epoch 100/100\n",
            "1179/1179 - 6s - loss: 0.2465 - accuracy: 0.9748 - val_loss: 0.2591 - val_accuracy: 0.9746 - 6s/epoch - 5ms/step\n",
            "295/295 [==============================] - 2s 3ms/step\n"
          ]
        }
      ],
      "source": [
        "# create and fit the LSTM network\n",
        "model = Sequential()\n",
        "model.add(LSTM(4, input_shape=(X_train.shape[1], 1)))\n",
        "model.add(Dense(1))\n",
        "model.compile(loss='binary_crossentropy', metrics=['accuracy'])\n",
        "model.fit(X_train, y_train, epochs=100, batch_size=32, verbose=2, validation_data=(X_test, y_test))\n",
        "\n",
        "# model.compile(optimizer='adam', loss='binary_crossentropy', metrics=['accuracy'])\n",
        "\n",
        "# # Huấn luyện mô hình\n",
        "# model.fit(X_train, y_train, epochs=100, batch_size=32, validation_data=(X_test, y_test))\n",
        "\n",
        "# Dự đoán trên tập kiểm tra\n",
        "y_pred = model.predict(X_test)\n",
        "y_pred_binary = (y_pred > 0.5).astype(int)"
      ]
    },
    {
      "cell_type": "code",
      "execution_count": 6,
      "metadata": {
        "colab": {
          "base_uri": "https://localhost:8080/"
        },
        "id": "dsIzSERK3xSd",
        "outputId": "0cd120a6-e3b0-4748-cc6b-516d3b07590d"
      },
      "outputs": [
        {
          "name": "stdout",
          "output_type": "stream",
          "text": [
            "Confusion Matrix:\n",
            "[[6256    0]\n",
            " [ 239 2931]]\n"
          ]
        }
      ],
      "source": [
        "# Tính confusion matrix\n",
        "conf_matrix = confusion_matrix(y_test, y_pred_binary)\n",
        "print(\"Confusion Matrix:\")\n",
        "print(conf_matrix)"
      ]
    },
    {
      "cell_type": "code",
      "execution_count": 7,
      "metadata": {},
      "outputs": [
        {
          "name": "stdout",
          "output_type": "stream",
          "text": [
            "              precision    recall  f1-score   support\n",
            "\n",
            "           0       0.96      1.00      0.98      6256\n",
            "           1       1.00      0.92      0.96      3170\n",
            "\n",
            "    accuracy                           0.97      9426\n",
            "   macro avg       0.98      0.96      0.97      9426\n",
            "weighted avg       0.98      0.97      0.97      9426\n",
            "\n"
          ]
        }
      ],
      "source": [
        "#Get the evaluation metrics like precision, recall, f1-score\n",
        "from sklearn.metrics import classification_report\n",
        "print(classification_report(y_test, y_pred_binary))\n"
      ]
    }
  ],
  "metadata": {
    "colab": {
      "provenance": []
    },
    "kernelspec": {
      "display_name": "Python 3",
      "name": "python3"
    },
    "language_info": {
      "codemirror_mode": {
        "name": "ipython",
        "version": 3
      },
      "file_extension": ".py",
      "mimetype": "text/x-python",
      "name": "python",
      "nbconvert_exporter": "python",
      "pygments_lexer": "ipython3",
      "version": "3.8.18"
    }
  },
  "nbformat": 4,
  "nbformat_minor": 0
}
