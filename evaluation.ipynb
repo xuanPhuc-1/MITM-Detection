{
 "cells": [
  {
   "cell_type": "code",
   "execution_count": 1,
   "metadata": {},
   "outputs": [],
   "source": [
    "headers = [\"APS\", \"ABPS\", \"SUBARP\", \"MISS_MAC\", \"TIME\"]"
   ]
  },
  {
   "cell_type": "code",
   "execution_count": 2,
   "metadata": {},
   "outputs": [],
   "source": [
    "import csv  # load features-file.csv file and convert it to a list\n",
    "with open('evaluation.csv', 'r') as csvfile:\n",
    "    reader = csv.reader(csvfile, delimiter=',')\n",
    "    reader = list(reader)"
   ]
  },
  {
   "cell_type": "code",
   "execution_count": 3,
   "metadata": {},
   "outputs": [
    {
     "data": {
      "text/html": [
       "<div>\n",
       "<style scoped>\n",
       "    .dataframe tbody tr th:only-of-type {\n",
       "        vertical-align: middle;\n",
       "    }\n",
       "\n",
       "    .dataframe tbody tr th {\n",
       "        vertical-align: top;\n",
       "    }\n",
       "\n",
       "    .dataframe thead th {\n",
       "        text-align: right;\n",
       "    }\n",
       "</style>\n",
       "<table border=\"1\" class=\"dataframe\">\n",
       "  <thead>\n",
       "    <tr style=\"text-align: right;\">\n",
       "      <th></th>\n",
       "      <th>APS</th>\n",
       "      <th>ABPS</th>\n",
       "      <th>SUBARP</th>\n",
       "      <th>MISS_MAC</th>\n",
       "      <th>TIME</th>\n",
       "    </tr>\n",
       "  </thead>\n",
       "  <tbody>\n",
       "    <tr>\n",
       "      <th>0</th>\n",
       "      <td>34</td>\n",
       "      <td>263.333333333333</td>\n",
       "      <td>102</td>\n",
       "      <td>0</td>\n",
       "      <td>40:20</td>\n",
       "    </tr>\n",
       "    <tr>\n",
       "      <th>1</th>\n",
       "      <td>58.6666666666667</td>\n",
       "      <td>90</td>\n",
       "      <td>168</td>\n",
       "      <td>0</td>\n",
       "      <td>40:24</td>\n",
       "    </tr>\n",
       "    <tr>\n",
       "      <th>2</th>\n",
       "      <td>91.6666666666667</td>\n",
       "      <td>10</td>\n",
       "      <td>103</td>\n",
       "      <td>0</td>\n",
       "      <td>40:28</td>\n",
       "    </tr>\n",
       "    <tr>\n",
       "      <th>3</th>\n",
       "      <td>74.6666666666667</td>\n",
       "      <td>0</td>\n",
       "      <td>18</td>\n",
       "      <td>0</td>\n",
       "      <td>40:32</td>\n",
       "    </tr>\n",
       "    <tr>\n",
       "      <th>4</th>\n",
       "      <td>32.6666666666667</td>\n",
       "      <td>0</td>\n",
       "      <td>2</td>\n",
       "      <td>0</td>\n",
       "      <td>40:36</td>\n",
       "    </tr>\n",
       "    <tr>\n",
       "      <th>...</th>\n",
       "      <td>...</td>\n",
       "      <td>...</td>\n",
       "      <td>...</td>\n",
       "      <td>...</td>\n",
       "      <td>...</td>\n",
       "    </tr>\n",
       "    <tr>\n",
       "      <th>57</th>\n",
       "      <td>62.6666666666667</td>\n",
       "      <td>0</td>\n",
       "      <td>0</td>\n",
       "      <td>0</td>\n",
       "      <td>44:17</td>\n",
       "    </tr>\n",
       "    <tr>\n",
       "      <th>58</th>\n",
       "      <td>48</td>\n",
       "      <td>0</td>\n",
       "      <td>0</td>\n",
       "      <td>0</td>\n",
       "      <td>44:21</td>\n",
       "    </tr>\n",
       "    <tr>\n",
       "      <th>59</th>\n",
       "      <td>39</td>\n",
       "      <td>0</td>\n",
       "      <td>-1</td>\n",
       "      <td>0</td>\n",
       "      <td>44:24</td>\n",
       "    </tr>\n",
       "    <tr>\n",
       "      <th>60</th>\n",
       "      <td>42</td>\n",
       "      <td>0</td>\n",
       "      <td>0</td>\n",
       "      <td>0</td>\n",
       "      <td>44:28</td>\n",
       "    </tr>\n",
       "    <tr>\n",
       "      <th>61</th>\n",
       "      <td>34.6666666666667</td>\n",
       "      <td>0</td>\n",
       "      <td>0</td>\n",
       "      <td>0</td>\n",
       "      <td>44:33</td>\n",
       "    </tr>\n",
       "  </tbody>\n",
       "</table>\n",
       "<p>62 rows × 5 columns</p>\n",
       "</div>"
      ],
      "text/plain": [
       "                 APS              ABPS SUBARP MISS_MAC   TIME\n",
       "0                 34  263.333333333333    102        0  40:20\n",
       "1   58.6666666666667                90    168        0  40:24\n",
       "2   91.6666666666667                10    103        0  40:28\n",
       "3   74.6666666666667                 0     18        0  40:32\n",
       "4   32.6666666666667                 0      2        0  40:36\n",
       "..               ...               ...    ...      ...    ...\n",
       "57  62.6666666666667                 0      0        0  44:17\n",
       "58                48                 0      0        0  44:21\n",
       "59                39                 0     -1        0  44:24\n",
       "60                42                 0      0        0  44:28\n",
       "61  34.6666666666667                 0      0        0  44:33\n",
       "\n",
       "[62 rows x 5 columns]"
      ]
     },
     "execution_count": 3,
     "metadata": {},
     "output_type": "execute_result"
    }
   ],
   "source": [
    "# save them with header to become dataframe\n",
    "import pandas as pd\n",
    "df = pd.DataFrame(reader, columns=headers)\n",
    "df"
   ]
  },
  {
   "cell_type": "code",
   "execution_count": 14,
   "metadata": {},
   "outputs": [],
   "source": [
    "from matplotlib import pyplot as plt\n",
    "import csv\n",
    "\n",
    "#visualize the graph with x-axis is time_stamp and y-axis is APS\n",
    "x = []\n",
    "y = []\n",
    "\n",
    "\n",
    "with open('evaluation.csv', 'r') as csvfile:\n",
    "    plots = csv.reader(csvfile, delimiter=',')\n",
    "    for row in plots:\n",
    "        y.append(float(row[0]))\n",
    "        x.append(row[1])\n",
    "\n"
   ]
  },
  {
   "cell_type": "code",
   "execution_count": 15,
   "metadata": {},
   "outputs": [
    {
     "data": {
      "text/plain": [
       "Text(0.5, 0, 'Time')"
      ]
     },
     "execution_count": 15,
     "metadata": {},
     "output_type": "execute_result"
    },
    {
     "data": {
      "image/png": "[encoded data removed]",
      "text/plain": [
       "<Figure size 640x480 with 1 Axes>"
      ]
     },
     "metadata": {},
     "output_type": "display_data"
    }
   ],
   "source": [
    "from matplotlib import pyplot as plt\n",
    "import csv\n",
    "\n",
    "#visualize the graph with x-axis is time_stamp and y-axis is APS\n",
    "x = []\n",
    "y1 = []\n",
    "y2 = []\n",
    "y3 = []\n",
    "y4 = []\n",
    "\n",
    "with open('evaluation.csv', 'r') as csvfile:\n",
    "    plots = csv.reader(csvfile, delimiter=',')\n",
    "    for row in plots:\n",
    "        y1.append(float(row[0]))\n",
    "        # y2.append(float(row[1]))    \n",
    "        # y3.append(float(row[2]))\n",
    "        # y4.append(float(row[3]))\n",
    "        x.append(row[4])\n",
    "\n",
    "#plot the graph with 4 subplots\n",
    "\n",
    "plt.subplot(2, 2, 1)\n",
    "plt.plot(x, y1, marker='o')\n",
    "plt.title('APS')\n",
    "plt.xlabel('Time')\n",
    "\n",
    "# plt.subplot(2, 2, 2)\n",
    "# plt.plot(x, y2, marker='o')\n",
    "# plt.title('ABPS')\n",
    "# plt.xlabel('Time')\n",
    "\n",
    "# plt.subplot(2, 2, 3)\n",
    "# plt.plot(x, y3, marker='o')\n",
    "# plt.title('SUBARP')\n",
    "# plt.xlabel('Time')\n",
    "\n",
    "# plt.subplot(2, 2, 4)\n",
    "# plt.plot(x, y4, marker='o')\n",
    "# plt.title('MISS_MAC')\n",
    "# plt.xlabel('Time')\n",
    "\n",
    "\n",
    "        \n",
    "        \n",
    "\n",
    "\n"
   ]
  },
  {
   "cell_type": "code",
   "execution_count": null,
   "metadata": {},
   "outputs": [],
   "source": []
  },
  {
   "cell_type": "code",
   "execution_count": null,
   "metadata": {},
   "outputs": [],
   "source": []
  },
  {
   "cell_type": "code",
   "execution_count": null,
   "metadata": {},
   "outputs": [],
   "source": []
  },
  {
   "cell_type": "code",
   "execution_count": null,
   "metadata": {},
   "outputs": [],
   "source": []
  },
  {
   "cell_type": "code",
   "execution_count": null,
   "metadata": {},
   "outputs": [],
   "source": []
  }
 ],
 "metadata": {
  "kernelspec": {
   "display_name": "Python 3",
   "language": "python",
   "name": "python3"
  },
  "language_info": {
   "codemirror_mode": {
    "name": "ipython",
    "version": 3
   },
   "file_extension": ".py",
   "mimetype": "text/x-python",
   "name": "python",
   "nbconvert_exporter": "python",
   "pygments_lexer": "ipython3",
   "version": "3.8.17"
  },
  "orig_nbformat": 4
 },
 "nbformat": 4,
 "nbformat_minor": 2
}
