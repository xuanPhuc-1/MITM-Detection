{
  "cells": [
    {
      "cell_type": "code",
      "execution_count": 21,
      "metadata": {
        "id": "SeTJsVjI2HC5"
      },
      "outputs": [],
      "source": [
        "import numpy as np\n",
        "import matplotlib.pyplot as plt\n",
        "import pandas as pd\n",
        "import tensorflow as tf\n",
        "from tensorflow.keras.models import Sequential\n",
        "from tensorflow.keras.layers import Dense\n",
        "from tensorflow.keras.layers import LSTM\n",
        "from sklearn.preprocessing import MinMaxScaler\n",
        "from sklearn.metrics import mean_squared_error\n",
        "from sklearn.model_selection import train_test_split\n",
        "from sklearn.metrics import confusion_matrix\n",
        "import seaborn as sns"
      ]
    },
    {
      "cell_type": "code",
      "execution_count": 22,
      "metadata": {
        "id": "7b8WWrAD2ap9"
      },
      "outputs": [],
      "source": [
        "df = pd.read_csv('~/MITM-Detection/dataset.csv')"
      ]
    },
    {
      "cell_type": "code",
      "execution_count": 23,
      "metadata": {
        "colab": {
          "base_uri": "https://localhost:8080/"
        },
        "id": "YgDEte5k3GRc",
        "outputId": "66c74c63-29fe-4cd2-b26c-46e0cb6f2d94"
      },
      "outputs": [
        {
          "name": "stdout",
          "output_type": "stream",
          "text": [
            "           0  6.666666667  0.1  0.2  0.3\n",
            "0   8.000000    61.666667   24    0    0\n",
            "1  18.000000    43.333333   54    0    0\n",
            "2  23.666667    41.333333   71    0    0\n",
            "3  37.666667    38.333333   91    0    0\n",
            "4  52.333333    25.000000   95    0    0\n"
          ]
        }
      ],
      "source": [
        "\n",
        "# Display the first few rows of the DataFrame\n",
        "print(df.head())\n",
        "\n",
        "# Extract features and labels\n",
        "X = df.iloc[:, :-1]  # Features (all columns except the last one)\n",
        "y = df.iloc[:, -1]   # Labels (last column)\n",
        "\n",
        "# Chia dữ liệu thành tập huấn luyện và tập kiểm tra\n",
        "X_train, X_test, y_train, y_test = train_test_split(X, y, test_size=0.2, random_state=42)\n",
        "\n",
        "# Reshape dữ liệu để phù hợp với đầu vào của Conv1D\n",
        "X_train = X_train.values.reshape(X_train.shape[0], X_train.shape[1], 1)\n",
        "X_test = X_test.values.reshape(X_test.shape[0], X_test.shape[1], 1)"
      ]
    },
    {
      "cell_type": "code",
      "execution_count": 24,
      "metadata": {
        "id": "eodtVSqn3oUK"
      },
      "outputs": [],
      "source": [
        "# model = Sequential()\n",
        "# model.add(Conv1D(32, kernel_size=3, activation='relu', input_shape=(X_train.shape[1], 1)))\n",
        "# model.add(MaxPooling1D(pool_size=2))\n",
        "# model.add(Flatten())\n",
        "# model.add(Dense(1, activation='sigmoid'))"
      ]
    },
    {
      "cell_type": "code",
      "execution_count": 25,
      "metadata": {
        "colab": {
          "base_uri": "https://localhost:8080/"
        },
        "id": "ZC3V-BvQ3uVS",
        "outputId": "3b88535e-cf32-46bd-898e-c3ea88ebabe0"
      },
      "outputs": [
        {
          "name": "stdout",
          "output_type": "stream",
          "text": [
            "Epoch 1/100\n"
          ]
        },
        {
          "name": "stdout",
          "output_type": "stream",
          "text": [
            "118/118 - 7s - loss: 2.3201 - accuracy: 0.6554 - val_loss: 0.7964 - val_accuracy: 0.6649 - 7s/epoch - 57ms/step\n",
            "Epoch 2/100\n",
            "118/118 - 1s - loss: 0.6676 - accuracy: 0.6573 - val_loss: 0.5870 - val_accuracy: 0.6766 - 1s/epoch - 10ms/step\n",
            "Epoch 3/100\n",
            "118/118 - 1s - loss: 0.5355 - accuracy: 0.7714 - val_loss: 0.4830 - val_accuracy: 0.8240 - 957ms/epoch - 8ms/step\n",
            "Epoch 4/100\n",
            "118/118 - 1s - loss: 0.4573 - accuracy: 0.8316 - val_loss: 0.4079 - val_accuracy: 0.8494 - 1s/epoch - 12ms/step\n",
            "Epoch 5/100\n",
            "118/118 - 1s - loss: 0.3785 - accuracy: 0.8552 - val_loss: 0.4034 - val_accuracy: 0.8802 - 1s/epoch - 9ms/step\n",
            "Epoch 6/100\n",
            "118/118 - 1s - loss: 0.2864 - accuracy: 0.9207 - val_loss: 0.2431 - val_accuracy: 0.9459 - 934ms/epoch - 8ms/step\n",
            "Epoch 7/100\n",
            "118/118 - 1s - loss: 0.2425 - accuracy: 0.9602 - val_loss: 0.2781 - val_accuracy: 0.9777 - 1s/epoch - 9ms/step\n",
            "Epoch 8/100\n",
            "118/118 - 1s - loss: 0.2409 - accuracy: 0.9695 - val_loss: 0.2430 - val_accuracy: 0.9777 - 1s/epoch - 11ms/step\n",
            "Epoch 9/100\n",
            "118/118 - 1s - loss: 0.1947 - accuracy: 0.9695 - val_loss: 0.1862 - val_accuracy: 0.9777 - 1s/epoch - 11ms/step\n",
            "Epoch 10/100\n",
            "118/118 - 1s - loss: 0.1704 - accuracy: 0.9695 - val_loss: 0.1361 - val_accuracy: 0.9777 - 1s/epoch - 11ms/step\n",
            "Epoch 11/100\n",
            "118/118 - 1s - loss: 0.1700 - accuracy: 0.9695 - val_loss: 0.1617 - val_accuracy: 0.9777 - 1s/epoch - 11ms/step\n",
            "Epoch 12/100\n",
            "118/118 - 1s - loss: 0.1733 - accuracy: 0.9695 - val_loss: 0.1734 - val_accuracy: 0.9777 - 1s/epoch - 11ms/step\n",
            "Epoch 13/100\n",
            "118/118 - 1s - loss: 0.1754 - accuracy: 0.9698 - val_loss: 0.1609 - val_accuracy: 0.9777 - 1s/epoch - 10ms/step\n",
            "Epoch 14/100\n",
            "118/118 - 1s - loss: 0.1860 - accuracy: 0.9698 - val_loss: 0.1608 - val_accuracy: 0.9777 - 1s/epoch - 9ms/step\n",
            "Epoch 15/100\n",
            "118/118 - 1s - loss: 0.1853 - accuracy: 0.9698 - val_loss: 0.1706 - val_accuracy: 0.9777 - 986ms/epoch - 8ms/step\n",
            "Epoch 16/100\n",
            "118/118 - 1s - loss: 0.1994 - accuracy: 0.9698 - val_loss: 0.1711 - val_accuracy: 0.9777 - 1s/epoch - 9ms/step\n",
            "Epoch 17/100\n",
            "118/118 - 1s - loss: 0.1886 - accuracy: 0.9698 - val_loss: 0.1522 - val_accuracy: 0.9777 - 1s/epoch - 10ms/step\n",
            "Epoch 18/100\n",
            "118/118 - 1s - loss: 0.1695 - accuracy: 0.9698 - val_loss: 0.1763 - val_accuracy: 0.9777 - 840ms/epoch - 7ms/step\n",
            "Epoch 19/100\n",
            "118/118 - 1s - loss: 0.1882 - accuracy: 0.9698 - val_loss: 0.1832 - val_accuracy: 0.9777 - 792ms/epoch - 7ms/step\n",
            "Epoch 20/100\n",
            "118/118 - 1s - loss: 0.1578 - accuracy: 0.9698 - val_loss: 0.1513 - val_accuracy: 0.9777 - 837ms/epoch - 7ms/step\n",
            "Epoch 21/100\n",
            "118/118 - 1s - loss: 0.1629 - accuracy: 0.9698 - val_loss: 0.2270 - val_accuracy: 0.9777 - 812ms/epoch - 7ms/step\n",
            "Epoch 22/100\n",
            "118/118 - 1s - loss: 0.1607 - accuracy: 0.9698 - val_loss: 0.2165 - val_accuracy: 0.9777 - 816ms/epoch - 7ms/step\n",
            "Epoch 23/100\n",
            "118/118 - 1s - loss: 0.1575 - accuracy: 0.9698 - val_loss: 0.1476 - val_accuracy: 0.9777 - 854ms/epoch - 7ms/step\n",
            "Epoch 24/100\n",
            "118/118 - 1s - loss: 0.1547 - accuracy: 0.9698 - val_loss: 0.1476 - val_accuracy: 0.9777 - 768ms/epoch - 7ms/step\n",
            "Epoch 25/100\n",
            "118/118 - 1s - loss: 0.1544 - accuracy: 0.9698 - val_loss: 0.1591 - val_accuracy: 0.9777 - 974ms/epoch - 8ms/step\n",
            "Epoch 26/100\n",
            "118/118 - 1s - loss: 0.1594 - accuracy: 0.9698 - val_loss: 0.1812 - val_accuracy: 0.9777 - 920ms/epoch - 8ms/step\n",
            "Epoch 27/100\n",
            "118/118 - 1s - loss: 0.1554 - accuracy: 0.9698 - val_loss: 0.1922 - val_accuracy: 0.9777 - 971ms/epoch - 8ms/step\n",
            "Epoch 28/100\n",
            "118/118 - 1s - loss: 0.2034 - accuracy: 0.9698 - val_loss: 0.1657 - val_accuracy: 0.9777 - 798ms/epoch - 7ms/step\n",
            "Epoch 29/100\n",
            "118/118 - 1s - loss: 0.1523 - accuracy: 0.9698 - val_loss: 0.1481 - val_accuracy: 0.9777 - 863ms/epoch - 7ms/step\n",
            "Epoch 30/100\n",
            "118/118 - 1s - loss: 0.1512 - accuracy: 0.9698 - val_loss: 0.1495 - val_accuracy: 0.9777 - 831ms/epoch - 7ms/step\n",
            "Epoch 31/100\n",
            "118/118 - 1s - loss: 0.1582 - accuracy: 0.9698 - val_loss: 0.1602 - val_accuracy: 0.9777 - 778ms/epoch - 7ms/step\n",
            "Epoch 32/100\n",
            "118/118 - 1s - loss: 0.1519 - accuracy: 0.9698 - val_loss: 0.1915 - val_accuracy: 0.9777 - 953ms/epoch - 8ms/step\n",
            "Epoch 33/100\n",
            "118/118 - 1s - loss: 0.1767 - accuracy: 0.9698 - val_loss: 0.2341 - val_accuracy: 0.9777 - 829ms/epoch - 7ms/step\n",
            "Epoch 34/100\n",
            "118/118 - 1s - loss: 0.1990 - accuracy: 0.9698 - val_loss: 0.2351 - val_accuracy: 0.9777 - 811ms/epoch - 7ms/step\n",
            "Epoch 35/100\n",
            "118/118 - 1s - loss: 0.1818 - accuracy: 0.9700 - val_loss: 0.1607 - val_accuracy: 0.9777 - 1s/epoch - 9ms/step\n",
            "Epoch 36/100\n",
            "118/118 - 1s - loss: 0.1757 - accuracy: 0.9703 - val_loss: 0.1700 - val_accuracy: 0.9777 - 872ms/epoch - 7ms/step\n",
            "Epoch 37/100\n",
            "118/118 - 1s - loss: 0.1448 - accuracy: 0.9719 - val_loss: 0.2114 - val_accuracy: 0.9777 - 823ms/epoch - 7ms/step\n",
            "Epoch 38/100\n",
            "118/118 - 1s - loss: 0.1983 - accuracy: 0.9719 - val_loss: 0.2350 - val_accuracy: 0.9777 - 1s/epoch - 9ms/step\n",
            "Epoch 39/100\n",
            "118/118 - 1s - loss: 0.1700 - accuracy: 0.9719 - val_loss: 0.2464 - val_accuracy: 0.9777 - 1s/epoch - 12ms/step\n",
            "Epoch 40/100\n",
            "118/118 - 2s - loss: 0.1611 - accuracy: 0.9719 - val_loss: 0.1521 - val_accuracy: 0.9777 - 2s/epoch - 14ms/step\n",
            "Epoch 41/100\n",
            "118/118 - 1s - loss: 0.1761 - accuracy: 0.9719 - val_loss: 0.1711 - val_accuracy: 0.9777 - 1s/epoch - 10ms/step\n",
            "Epoch 42/100\n",
            "118/118 - 1s - loss: 0.1484 - accuracy: 0.9719 - val_loss: 0.1714 - val_accuracy: 0.9777 - 840ms/epoch - 7ms/step\n",
            "Epoch 43/100\n",
            "118/118 - 1s - loss: 0.1763 - accuracy: 0.9719 - val_loss: 0.1719 - val_accuracy: 0.9777 - 869ms/epoch - 7ms/step\n",
            "Epoch 44/100\n",
            "118/118 - 1s - loss: 0.1643 - accuracy: 0.9719 - val_loss: 0.2459 - val_accuracy: 0.9777 - 920ms/epoch - 8ms/step\n",
            "Epoch 45/100\n",
            "118/118 - 1s - loss: 0.1589 - accuracy: 0.9719 - val_loss: 0.1696 - val_accuracy: 0.9777 - 806ms/epoch - 7ms/step\n",
            "Epoch 46/100\n",
            "118/118 - 1s - loss: 0.1655 - accuracy: 0.9719 - val_loss: 0.2352 - val_accuracy: 0.9777 - 1s/epoch - 9ms/step\n",
            "Epoch 47/100\n",
            "118/118 - 1s - loss: 0.1712 - accuracy: 0.9719 - val_loss: 0.1601 - val_accuracy: 0.9777 - 944ms/epoch - 8ms/step\n",
            "Epoch 48/100\n",
            "118/118 - 1s - loss: 0.1527 - accuracy: 0.9719 - val_loss: 0.1583 - val_accuracy: 0.9777 - 855ms/epoch - 7ms/step\n",
            "Epoch 49/100\n",
            "118/118 - 1s - loss: 0.1553 - accuracy: 0.9719 - val_loss: 0.1672 - val_accuracy: 0.9777 - 823ms/epoch - 7ms/step\n",
            "Epoch 50/100\n",
            "118/118 - 1s - loss: 0.1418 - accuracy: 0.9719 - val_loss: 0.1673 - val_accuracy: 0.9777 - 747ms/epoch - 6ms/step\n",
            "Epoch 51/100\n",
            "118/118 - 1s - loss: 0.1600 - accuracy: 0.9719 - val_loss: 0.1574 - val_accuracy: 0.9777 - 846ms/epoch - 7ms/step\n",
            "Epoch 52/100\n",
            "118/118 - 1s - loss: 0.1282 - accuracy: 0.9719 - val_loss: 0.1566 - val_accuracy: 0.9777 - 755ms/epoch - 6ms/step\n",
            "Epoch 53/100\n",
            "118/118 - 1s - loss: 0.1754 - accuracy: 0.9719 - val_loss: 0.2219 - val_accuracy: 0.9777 - 841ms/epoch - 7ms/step\n",
            "Epoch 54/100\n",
            "118/118 - 1s - loss: 0.1291 - accuracy: 0.9719 - val_loss: 0.1567 - val_accuracy: 0.9777 - 709ms/epoch - 6ms/step\n",
            "Epoch 55/100\n",
            "118/118 - 1s - loss: 0.1726 - accuracy: 0.9719 - val_loss: 0.2211 - val_accuracy: 0.9777 - 750ms/epoch - 6ms/step\n",
            "Epoch 56/100\n",
            "118/118 - 1s - loss: 0.1435 - accuracy: 0.9721 - val_loss: 0.1591 - val_accuracy: 0.9777 - 776ms/epoch - 7ms/step\n",
            "Epoch 57/100\n",
            "118/118 - 1s - loss: 0.1311 - accuracy: 0.9721 - val_loss: 0.1672 - val_accuracy: 0.9777 - 791ms/epoch - 7ms/step\n",
            "Epoch 58/100\n",
            "118/118 - 1s - loss: 0.1530 - accuracy: 0.9721 - val_loss: 0.2206 - val_accuracy: 0.9777 - 702ms/epoch - 6ms/step\n",
            "Epoch 59/100\n",
            "118/118 - 1s - loss: 0.1281 - accuracy: 0.9721 - val_loss: 0.1775 - val_accuracy: 0.9777 - 747ms/epoch - 6ms/step\n",
            "Epoch 60/100\n",
            "118/118 - 1s - loss: 0.1468 - accuracy: 0.9721 - val_loss: 0.2323 - val_accuracy: 0.9777 - 843ms/epoch - 7ms/step\n",
            "Epoch 61/100\n",
            "118/118 - 1s - loss: 0.1393 - accuracy: 0.9724 - val_loss: 0.1684 - val_accuracy: 0.9777 - 936ms/epoch - 8ms/step\n",
            "Epoch 62/100\n",
            "118/118 - 1s - loss: 0.1442 - accuracy: 0.9724 - val_loss: 0.1782 - val_accuracy: 0.9777 - 739ms/epoch - 6ms/step\n",
            "Epoch 63/100\n",
            "118/118 - 1s - loss: 0.1327 - accuracy: 0.9724 - val_loss: 0.1589 - val_accuracy: 0.9777 - 815ms/epoch - 7ms/step\n",
            "Epoch 64/100\n",
            "118/118 - 1s - loss: 0.1439 - accuracy: 0.9724 - val_loss: 0.2051 - val_accuracy: 0.9777 - 714ms/epoch - 6ms/step\n",
            "Epoch 65/100\n",
            "118/118 - 1s - loss: 0.1764 - accuracy: 0.9724 - val_loss: 0.2202 - val_accuracy: 0.9777 - 685ms/epoch - 6ms/step\n",
            "Epoch 66/100\n",
            "118/118 - 1s - loss: 0.1877 - accuracy: 0.9724 - val_loss: 0.2200 - val_accuracy: 0.9777 - 721ms/epoch - 6ms/step\n",
            "Epoch 67/100\n",
            "118/118 - 1s - loss: 0.1549 - accuracy: 0.9727 - val_loss: 0.1580 - val_accuracy: 0.9777 - 714ms/epoch - 6ms/step\n",
            "Epoch 68/100\n",
            "118/118 - 1s - loss: 0.1583 - accuracy: 0.9732 - val_loss: 0.1677 - val_accuracy: 0.9777 - 704ms/epoch - 6ms/step\n",
            "Epoch 69/100\n",
            "118/118 - 1s - loss: 0.1491 - accuracy: 0.9732 - val_loss: 0.1878 - val_accuracy: 0.9777 - 711ms/epoch - 6ms/step\n",
            "Epoch 70/100\n",
            "118/118 - 1s - loss: 0.1875 - accuracy: 0.9732 - val_loss: 0.2319 - val_accuracy: 0.9788 - 722ms/epoch - 6ms/step\n",
            "Epoch 71/100\n",
            "118/118 - 1s - loss: 0.1749 - accuracy: 0.9735 - val_loss: 0.1783 - val_accuracy: 0.9788 - 792ms/epoch - 7ms/step\n",
            "Epoch 72/100\n",
            "118/118 - 1s - loss: 0.1345 - accuracy: 0.9735 - val_loss: 0.1771 - val_accuracy: 0.9788 - 710ms/epoch - 6ms/step\n",
            "Epoch 73/100\n",
            "118/118 - 1s - loss: 0.1574 - accuracy: 0.9735 - val_loss: 0.1767 - val_accuracy: 0.9788 - 681ms/epoch - 6ms/step\n",
            "Epoch 74/100\n",
            "118/118 - 1s - loss: 0.1786 - accuracy: 0.9735 - val_loss: 0.2204 - val_accuracy: 0.9788 - 716ms/epoch - 6ms/step\n",
            "Epoch 75/100\n",
            "118/118 - 1s - loss: 0.1908 - accuracy: 0.9735 - val_loss: 0.2314 - val_accuracy: 0.9788 - 1s/epoch - 9ms/step\n",
            "Epoch 76/100\n",
            "118/118 - 1s - loss: 0.1392 - accuracy: 0.9735 - val_loss: 0.1782 - val_accuracy: 0.9788 - 1s/epoch - 9ms/step\n",
            "Epoch 77/100\n",
            "118/118 - 1s - loss: 0.1624 - accuracy: 0.9735 - val_loss: 0.1688 - val_accuracy: 0.9788 - 1s/epoch - 12ms/step\n",
            "Epoch 78/100\n",
            "118/118 - 1s - loss: 0.1593 - accuracy: 0.9735 - val_loss: 0.2322 - val_accuracy: 0.9788 - 1s/epoch - 9ms/step\n",
            "Epoch 79/100\n",
            "118/118 - 1s - loss: 0.1598 - accuracy: 0.9735 - val_loss: 0.1574 - val_accuracy: 0.9788 - 804ms/epoch - 7ms/step\n",
            "Epoch 80/100\n",
            "118/118 - 1s - loss: 0.1376 - accuracy: 0.9735 - val_loss: 0.1690 - val_accuracy: 0.9788 - 769ms/epoch - 7ms/step\n",
            "Epoch 81/100\n",
            "118/118 - 1s - loss: 0.1649 - accuracy: 0.9735 - val_loss: 0.1577 - val_accuracy: 0.9788 - 894ms/epoch - 8ms/step\n",
            "Epoch 82/100\n",
            "118/118 - 1s - loss: 0.1309 - accuracy: 0.9735 - val_loss: 0.1371 - val_accuracy: 0.9788 - 1s/epoch - 9ms/step\n",
            "Epoch 83/100\n",
            "118/118 - 1s - loss: 0.1596 - accuracy: 0.9735 - val_loss: 0.2126 - val_accuracy: 0.9788 - 839ms/epoch - 7ms/step\n",
            "Epoch 84/100\n",
            "118/118 - 1s - loss: 0.1490 - accuracy: 0.9735 - val_loss: 0.1575 - val_accuracy: 0.9788 - 718ms/epoch - 6ms/step\n",
            "Epoch 85/100\n",
            "118/118 - 1s - loss: 0.1657 - accuracy: 0.9735 - val_loss: 0.1686 - val_accuracy: 0.9788 - 742ms/epoch - 6ms/step\n",
            "Epoch 86/100\n",
            "118/118 - 1s - loss: 0.1539 - accuracy: 0.9735 - val_loss: 0.1839 - val_accuracy: 0.9788 - 666ms/epoch - 6ms/step\n",
            "Epoch 87/100\n",
            "118/118 - 1s - loss: 0.1757 - accuracy: 0.9735 - val_loss: 0.2221 - val_accuracy: 0.9788 - 782ms/epoch - 7ms/step\n",
            "Epoch 88/100\n",
            "118/118 - 1s - loss: 0.1753 - accuracy: 0.9735 - val_loss: 0.2204 - val_accuracy: 0.9788 - 813ms/epoch - 7ms/step\n",
            "Epoch 89/100\n",
            "118/118 - 1s - loss: 0.1804 - accuracy: 0.9735 - val_loss: 0.2312 - val_accuracy: 0.9788 - 907ms/epoch - 8ms/step\n",
            "Epoch 90/100\n",
            "118/118 - 1s - loss: 0.1409 - accuracy: 0.9735 - val_loss: 0.1699 - val_accuracy: 0.9788 - 788ms/epoch - 7ms/step\n",
            "Epoch 91/100\n",
            "118/118 - 1s - loss: 0.1432 - accuracy: 0.9735 - val_loss: 0.2211 - val_accuracy: 0.9788 - 704ms/epoch - 6ms/step\n",
            "Epoch 92/100\n",
            "118/118 - 1s - loss: 0.1331 - accuracy: 0.9735 - val_loss: 0.1791 - val_accuracy: 0.9788 - 700ms/epoch - 6ms/step\n",
            "Epoch 93/100\n",
            "118/118 - 1s - loss: 0.1246 - accuracy: 0.9735 - val_loss: 0.2230 - val_accuracy: 0.9788 - 710ms/epoch - 6ms/step\n",
            "Epoch 94/100\n",
            "118/118 - 1s - loss: 0.1754 - accuracy: 0.9735 - val_loss: 0.2206 - val_accuracy: 0.9788 - 769ms/epoch - 7ms/step\n",
            "Epoch 95/100\n",
            "118/118 - 1s - loss: 0.1703 - accuracy: 0.9735 - val_loss: 0.2204 - val_accuracy: 0.9788 - 990ms/epoch - 8ms/step\n",
            "Epoch 96/100\n",
            "118/118 - 1s - loss: 0.1778 - accuracy: 0.9735 - val_loss: 0.2201 - val_accuracy: 0.9788 - 742ms/epoch - 6ms/step\n",
            "Epoch 97/100\n",
            "118/118 - 1s - loss: 0.1746 - accuracy: 0.9735 - val_loss: 0.2120 - val_accuracy: 0.9788 - 734ms/epoch - 6ms/step\n",
            "Epoch 98/100\n",
            "118/118 - 1s - loss: 0.1757 - accuracy: 0.9735 - val_loss: 0.2204 - val_accuracy: 0.9788 - 886ms/epoch - 8ms/step\n",
            "Epoch 99/100\n",
            "118/118 - 1s - loss: 0.1417 - accuracy: 0.9735 - val_loss: 0.1549 - val_accuracy: 0.9788 - 761ms/epoch - 6ms/step\n",
            "Epoch 100/100\n",
            "118/118 - 1s - loss: 0.1562 - accuracy: 0.9735 - val_loss: 0.2190 - val_accuracy: 0.9788 - 692ms/epoch - 6ms/step\n",
            "30/30 [==============================] - 1s 5ms/step\n"
          ]
        }
      ],
      "source": [
        "# create and fit the LSTM network\n",
        "model = Sequential()\n",
        "model.add(LSTM(4, input_shape=(X_train.shape[1], 1)))\n",
        "model.add(Dense(1))\n",
        "model.compile(loss='binary_crossentropy', metrics=['accuracy'])\n",
        "model.fit(X_train, y_train, epochs=100, batch_size=32, verbose=2, validation_data=(X_test, y_test))\n",
        "\n",
        "# model.compile(optimizer='adam', loss='binary_crossentropy', metrics=['accuracy'])\n",
        "\n",
        "# # Huấn luyện mô hình\n",
        "# model.fit(X_train, y_train, epochs=100, batch_size=32, validation_data=(X_test, y_test))\n",
        "\n",
        "# Dự đoán trên tập kiểm tra\n",
        "y_pred = model.predict(X_test)\n",
        "y_pred_binary = (y_pred > 0.5).astype(int)"
      ]
    },
    {
      "cell_type": "code",
      "execution_count": 26,
      "metadata": {
        "colab": {
          "base_uri": "https://localhost:8080/"
        },
        "id": "dsIzSERK3xSd",
        "outputId": "0cd120a6-e3b0-4748-cc6b-516d3b07590d"
      },
      "outputs": [
        {
          "name": "stdout",
          "output_type": "stream",
          "text": [
            "Confusion Matrix:\n",
            "[[627   0]\n",
            " [ 20 296]]\n"
          ]
        }
      ],
      "source": [
        "# Tính confusion matrix\n",
        "conf_matrix = confusion_matrix(y_test, y_pred_binary)\n",
        "print(\"Confusion Matrix:\")\n",
        "print(conf_matrix)"
      ]
    },
    {
      "cell_type": "code",
      "execution_count": 27,
      "metadata": {},
      "outputs": [
        {
          "name": "stdout",
          "output_type": "stream",
          "text": [
            "              precision    recall  f1-score   support\n",
            "\n",
            "           0       0.97      1.00      0.98       627\n",
            "           1       1.00      0.94      0.97       316\n",
            "\n",
            "    accuracy                           0.98       943\n",
            "   macro avg       0.98      0.97      0.98       943\n",
            "weighted avg       0.98      0.98      0.98       943\n",
            "\n"
          ]
        }
      ],
      "source": [
        "#Get the evaluation metrics like precision, recall, f1-score\n",
        "from sklearn.metrics import classification_report\n",
        "print(classification_report(y_test, y_pred_binary))\n"
      ]
    },
    {
      "cell_type": "code",
      "execution_count": 28,
      "metadata": {
        "colab": {
          "base_uri": "https://localhost:8080/",
          "height": 472
        },
        "id": "WJsTVxUu4GbK",
        "outputId": "dca15ca4-b25b-437b-8bde-3d882580757f"
      },
      "outputs": [
        {
          "data": {
            "image/png": "[encoded data removed]",
            "text/plain": [
              "<Figure size 640x480 with 1 Axes>"
            ]
          },
          "metadata": {},
          "output_type": "display_data"
        }
      ],
      "source": [
        "# Hiển thị heatmap cho confusion matrix\n",
        "sns.heatmap(conf_matrix, annot=True, fmt='d', cmap='Blues', cbar=False,\n",
        "            xticklabels=['Class 0', 'Class 1'], yticklabels=['Class 0', 'Class 1'])\n",
        "plt.xlabel('Predicted')\n",
        "plt.ylabel('Actual')\n",
        "plt.title('Confusion Matrix Heatmap')\n",
        "plt.show()"
      ]
    }
  ],
  "metadata": {
    "colab": {
      "provenance": []
    },
    "kernelspec": {
      "display_name": "Python 3",
      "name": "python3"
    },
    "language_info": {
      "codemirror_mode": {
        "name": "ipython",
        "version": 3
      },
      "file_extension": ".py",
      "mimetype": "text/x-python",
      "name": "python",
      "nbconvert_exporter": "python",
      "pygments_lexer": "ipython3",
      "version": "3.8.18"
    }
  },
  "nbformat": 4,
  "nbformat_minor": 0
}
