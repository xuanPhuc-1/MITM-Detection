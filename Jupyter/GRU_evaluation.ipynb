{
  "cells": [
    {
      "cell_type": "code",
      "execution_count": 1,
      "metadata": {
        "id": "SeTJsVjI2HC5"
      },
      "outputs": [
        {
          "name": "stderr",
          "output_type": "stream",
          "text": [
            "2024-01-14 20:10:48.041770: I tensorflow/tsl/cuda/cudart_stub.cc:28] Could not find cuda drivers on your machine, GPU will not be used.\n",
            "2024-01-14 20:10:48.510671: I tensorflow/tsl/cuda/cudart_stub.cc:28] Could not find cuda drivers on your machine, GPU will not be used.\n",
            "2024-01-14 20:10:48.511606: I tensorflow/core/platform/cpu_feature_guard.cc:182] This TensorFlow binary is optimized to use available CPU instructions in performance-critical operations.\n",
            "To enable the following instructions: AVX2 FMA, in other operations, rebuild TensorFlow with the appropriate compiler flags.\n",
            "2024-01-14 20:10:50.406822: W tensorflow/compiler/tf2tensorrt/utils/py_utils.cc:38] TF-TRT Warning: Could not find TensorRT\n"
          ]
        }
      ],
      "source": [
        "import numpy as np\n",
        "import matplotlib.pyplot as plt\n",
        "import pandas as pd\n",
        "import tensorflow as tf\n",
        "from tensorflow.keras.models import Sequential\n",
        "from tensorflow.keras.layers import Dense\n",
        "from tensorflow.keras.layers import LSTM\n",
        "from sklearn.preprocessing import MinMaxScaler\n",
        "from sklearn.metrics import mean_squared_error\n",
        "from sklearn.model_selection import train_test_split\n",
        "from sklearn.metrics import confusion_matrix\n",
        "import seaborn as sns\n",
        "from keras.layers import Dense, LSTM, Dropout, GRU, Bidirectional\n",
        "from keras.optimizers import SGD"
      ]
    },
    {
      "cell_type": "code",
      "execution_count": 2,
      "metadata": {
        "id": "7b8WWrAD2ap9"
      },
      "outputs": [],
      "source": [
        "df = pd.read_csv('~/MITM-Detection/dataset.csv')"
      ]
    },
    {
      "cell_type": "code",
      "execution_count": 3,
      "metadata": {
        "colab": {
          "base_uri": "https://localhost:8080/"
        },
        "id": "YgDEte5k3GRc",
        "outputId": "66c74c63-29fe-4cd2-b26c-46e0cb6f2d94"
      },
      "outputs": [
        {
          "name": "stdout",
          "output_type": "stream",
          "text": [
            "           0  6.666666667  0.1  0.2  0.3\n",
            "0   8.000000    61.666667   24    0    0\n",
            "1  18.000000    43.333333   54    0    0\n",
            "2  23.666667    41.333333   71    0    0\n",
            "3  37.666667    38.333333   91    0    0\n",
            "4  52.333333    25.000000   95    0    0\n"
          ]
        }
      ],
      "source": [
        "\n",
        "# Display the first few rows of the DataFrame\n",
        "print(df.head())\n",
        "\n",
        "# Extract features and labels\n",
        "X = df.iloc[:, :-1]  # Features (all columns except the last one)\n",
        "y = df.iloc[:, -1]   # Labels (last column)\n",
        "\n",
        "# Chia dữ liệu thành tập huấn luyện và tập kiểm tra\n",
        "X_train, X_test, y_train, y_test = train_test_split(X, y, test_size=0.2, random_state=42)\n",
        "\n",
        "# Reshape dữ liệu để phù hợp với đầu vào của Conv1D\n",
        "X_train = X_train.values.reshape(X_train.shape[0], X_train.shape[1], 1)\n",
        "X_test = X_test.values.reshape(X_test.shape[0], X_test.shape[1], 1)"
      ]
    },
    {
      "cell_type": "code",
      "execution_count": 4,
      "metadata": {
        "id": "eodtVSqn3oUK"
      },
      "outputs": [],
      "source": [
        "# model = Sequential()\n",
        "# model.add(Conv1D(32, kernel_size=3, activation='relu', input_shape=(X_train.shape[1], 1)))\n",
        "# model.add(MaxPooling1D(pool_size=2))\n",
        "# model.add(Flatten())\n",
        "# model.add(Dense(1, activation='sigmoid'))"
      ]
    },
    {
      "cell_type": "code",
      "execution_count": 5,
      "metadata": {
        "colab": {
          "base_uri": "https://localhost:8080/"
        },
        "id": "ZC3V-BvQ3uVS",
        "outputId": "3b88535e-cf32-46bd-898e-c3ea88ebabe0"
      },
      "outputs": [],
      "source": [
        "# # create and fit the LSTM network\n",
        "# model = Sequential()\n",
        "# model.add(LSTM(4, input_shape=(X_train.shape[1], 1)))\n",
        "# model.add(Dense(1))\n",
        "# model.compile(loss='binary_crossentropy', metrics=['accuracy'])\n",
        "# model.fit(X_train, y_train, epochs=100, batch_size=32, verbose=2, validation_data=(X_test, y_test))\n",
        "\n",
        "# # model.compile(optimizer='adam', loss='binary_crossentropy', metrics=['accuracy'])\n",
        "\n",
        "# # # Huấn luyện mô hình\n",
        "# # model.fit(X_train, y_train, epochs=100, batch_size=32, validation_data=(X_test, y_test))\n",
        "\n",
        "# # Dự đoán trên tập kiểm tra\n",
        "# y_pred = model.predict(X_test)\n",
        "# y_pred_binary = (y_pred > 0.5).astype(int)"
      ]
    },
    {
      "cell_type": "code",
      "execution_count": 6,
      "metadata": {},
      "outputs": [
        {
          "name": "stdout",
          "output_type": "stream",
          "text": [
            "Epoch 1/100\n",
            "1179/1179 [==============================] - 36s 20ms/step - loss: 0.3935 - accuracy: 0.8989 - val_loss: 0.3314 - val_accuracy: 0.9699\n",
            "Epoch 2/100\n",
            "1179/1179 [==============================] - 21s 18ms/step - loss: 0.2940 - accuracy: 0.9600 - val_loss: 0.2832 - val_accuracy: 0.9699\n",
            "Epoch 3/100\n",
            "1179/1179 [==============================] - 21s 18ms/step - loss: 0.2504 - accuracy: 0.9605 - val_loss: 0.2387 - val_accuracy: 0.9699\n",
            "Epoch 4/100\n",
            "1179/1179 [==============================] - 21s 18ms/step - loss: 0.2330 - accuracy: 0.9615 - val_loss: 0.1597 - val_accuracy: 0.9699\n",
            "Epoch 5/100\n",
            "1179/1179 [==============================] - 22s 18ms/step - loss: 0.2302 - accuracy: 0.9640 - val_loss: 0.1989 - val_accuracy: 0.9702\n",
            "Epoch 6/100\n",
            "1179/1179 [==============================] - 22s 19ms/step - loss: 0.2187 - accuracy: 0.9715 - val_loss: 0.2332 - val_accuracy: 0.9708\n",
            "Epoch 7/100\n",
            "1179/1179 [==============================] - 24s 20ms/step - loss: 0.2275 - accuracy: 0.9695 - val_loss: 0.2250 - val_accuracy: 0.9742\n",
            "Epoch 8/100\n",
            "1179/1179 [==============================] - 22s 18ms/step - loss: 0.2203 - accuracy: 0.9719 - val_loss: 0.1776 - val_accuracy: 0.9742\n",
            "Epoch 9/100\n",
            "1179/1179 [==============================] - 22s 19ms/step - loss: 0.2042 - accuracy: 0.9744 - val_loss: 0.2254 - val_accuracy: 0.9742\n",
            "Epoch 10/100\n",
            "1179/1179 [==============================] - 25s 21ms/step - loss: 0.2110 - accuracy: 0.9743 - val_loss: 0.1851 - val_accuracy: 0.9742\n",
            "Epoch 11/100\n",
            "1179/1179 [==============================] - 23s 19ms/step - loss: 0.1947 - accuracy: 0.9745 - val_loss: 0.1740 - val_accuracy: 0.9742\n",
            "Epoch 12/100\n",
            "1179/1179 [==============================] - 22s 18ms/step - loss: 0.1986 - accuracy: 0.9733 - val_loss: 0.1949 - val_accuracy: 0.9742\n",
            "Epoch 13/100\n",
            "1179/1179 [==============================] - 35s 30ms/step - loss: 0.2060 - accuracy: 0.9742 - val_loss: 0.2240 - val_accuracy: 0.9742\n",
            "Epoch 14/100\n",
            "1179/1179 [==============================] - 29s 25ms/step - loss: 0.2095 - accuracy: 0.9728 - val_loss: 0.1736 - val_accuracy: 0.9742\n",
            "Epoch 15/100\n",
            "1179/1179 [==============================] - 27s 23ms/step - loss: 0.2226 - accuracy: 0.9628 - val_loss: 0.2177 - val_accuracy: 0.9742\n",
            "Epoch 16/100\n",
            "1179/1179 [==============================] - 24s 20ms/step - loss: 0.1963 - accuracy: 0.9694 - val_loss: 0.2219 - val_accuracy: 0.9742\n",
            "Epoch 17/100\n",
            "1179/1179 [==============================] - 16s 14ms/step - loss: 0.2373 - accuracy: 0.9424 - val_loss: 0.1968 - val_accuracy: 0.9742\n",
            "Epoch 18/100\n",
            "1179/1179 [==============================] - 30s 26ms/step - loss: 0.2506 - accuracy: 0.9272 - val_loss: 0.2395 - val_accuracy: 0.9742\n",
            "Epoch 19/100\n",
            "1179/1179 [==============================] - 39s 33ms/step - loss: 0.1997 - accuracy: 0.9705 - val_loss: 0.1536 - val_accuracy: 0.9742\n",
            "Epoch 20/100\n",
            "1179/1179 [==============================] - 33s 28ms/step - loss: 0.1732 - accuracy: 0.9720 - val_loss: 0.1533 - val_accuracy: 0.9742\n",
            "Epoch 21/100\n",
            "1179/1179 [==============================] - 34s 29ms/step - loss: 0.1783 - accuracy: 0.9737 - val_loss: 0.2144 - val_accuracy: 0.9742\n",
            "Epoch 22/100\n",
            "1179/1179 [==============================] - 28s 24ms/step - loss: 0.1840 - accuracy: 0.9742 - val_loss: 0.1899 - val_accuracy: 0.9742\n",
            "Epoch 23/100\n",
            "1179/1179 [==============================] - 32s 27ms/step - loss: 0.1837 - accuracy: 0.9732 - val_loss: 0.1988 - val_accuracy: 0.9742\n",
            "Epoch 24/100\n",
            "1179/1179 [==============================] - 32s 27ms/step - loss: 0.1991 - accuracy: 0.9633 - val_loss: 0.1870 - val_accuracy: 0.9742\n",
            "Epoch 25/100\n",
            "1179/1179 [==============================] - 46s 39ms/step - loss: 0.1860 - accuracy: 0.9660 - val_loss: 0.1550 - val_accuracy: 0.9742\n",
            "Epoch 26/100\n",
            "1179/1179 [==============================] - 30s 26ms/step - loss: 0.1585 - accuracy: 0.9742 - val_loss: 0.1837 - val_accuracy: 0.9742\n",
            "Epoch 27/100\n",
            "1179/1179 [==============================] - 14s 12ms/step - loss: 0.1771 - accuracy: 0.9738 - val_loss: 0.1789 - val_accuracy: 0.9742\n",
            "Epoch 28/100\n",
            "1179/1179 [==============================] - 21s 18ms/step - loss: 0.1661 - accuracy: 0.9745 - val_loss: 0.1420 - val_accuracy: 0.9748\n",
            "Epoch 29/100\n",
            "1179/1179 [==============================] - 15s 13ms/step - loss: 0.1634 - accuracy: 0.9712 - val_loss: 0.2686 - val_accuracy: 0.8518\n",
            "Epoch 30/100\n",
            "1179/1179 [==============================] - 15s 13ms/step - loss: 0.1847 - accuracy: 0.9672 - val_loss: 0.1589 - val_accuracy: 0.9742\n",
            "Epoch 31/100\n",
            "1179/1179 [==============================] - 15s 13ms/step - loss: 0.1948 - accuracy: 0.9636 - val_loss: 0.2165 - val_accuracy: 0.9742\n",
            "Epoch 32/100\n",
            "1179/1179 [==============================] - 15s 13ms/step - loss: 0.1894 - accuracy: 0.9745 - val_loss: 0.1949 - val_accuracy: 0.9742\n",
            "Epoch 33/100\n",
            "1179/1179 [==============================] - 14s 12ms/step - loss: 0.1844 - accuracy: 0.9741 - val_loss: 0.1377 - val_accuracy: 0.9742\n",
            "Epoch 34/100\n",
            "1179/1179 [==============================] - 14s 12ms/step - loss: 0.1820 - accuracy: 0.9744 - val_loss: 0.1825 - val_accuracy: 0.9742\n",
            "Epoch 35/100\n",
            "1179/1179 [==============================] - 14s 12ms/step - loss: 0.1722 - accuracy: 0.9728 - val_loss: 0.1947 - val_accuracy: 0.9742\n",
            "Epoch 36/100\n",
            "1179/1179 [==============================] - 13s 11ms/step - loss: 0.1732 - accuracy: 0.9744 - val_loss: 0.1291 - val_accuracy: 0.9742\n",
            "Epoch 37/100\n",
            "1179/1179 [==============================] - 14s 12ms/step - loss: 0.1687 - accuracy: 0.9746 - val_loss: 0.1869 - val_accuracy: 0.9742\n",
            "Epoch 38/100\n",
            "1179/1179 [==============================] - 15s 13ms/step - loss: 0.1795 - accuracy: 0.9676 - val_loss: 0.2026 - val_accuracy: 0.9739\n",
            "Epoch 39/100\n",
            "1179/1179 [==============================] - 15s 13ms/step - loss: 0.1537 - accuracy: 0.9738 - val_loss: 0.1337 - val_accuracy: 0.9742\n",
            "Epoch 40/100\n",
            "1179/1179 [==============================] - 14s 11ms/step - loss: 0.1590 - accuracy: 0.9742 - val_loss: 0.1814 - val_accuracy: 0.9742\n",
            "Epoch 41/100\n",
            "1179/1179 [==============================] - 15s 12ms/step - loss: 0.1673 - accuracy: 0.9745 - val_loss: 0.1916 - val_accuracy: 0.9742\n",
            "Epoch 42/100\n",
            "1179/1179 [==============================] - 15s 13ms/step - loss: 0.1610 - accuracy: 0.9744 - val_loss: 0.1550 - val_accuracy: 0.9742\n",
            "Epoch 43/100\n",
            "1179/1179 [==============================] - 17s 14ms/step - loss: 0.1570 - accuracy: 0.9739 - val_loss: 0.1487 - val_accuracy: 0.9742\n",
            "Epoch 44/100\n",
            "1179/1179 [==============================] - 24s 20ms/step - loss: 0.1652 - accuracy: 0.9740 - val_loss: 0.1567 - val_accuracy: 0.9748\n",
            "Epoch 45/100\n",
            "1179/1179 [==============================] - 24s 21ms/step - loss: 0.1754 - accuracy: 0.9662 - val_loss: 0.1437 - val_accuracy: 0.9742\n",
            "Epoch 46/100\n",
            "1179/1179 [==============================] - 35s 29ms/step - loss: 0.1517 - accuracy: 0.9741 - val_loss: 0.1288 - val_accuracy: 0.9742\n",
            "Epoch 47/100\n",
            "1179/1179 [==============================] - 26s 22ms/step - loss: 0.1506 - accuracy: 0.9739 - val_loss: 0.1493 - val_accuracy: 0.9748\n",
            "Epoch 48/100\n",
            "1179/1179 [==============================] - 25s 21ms/step - loss: 0.1531 - accuracy: 0.9736 - val_loss: 0.1426 - val_accuracy: 0.9742\n",
            "Epoch 49/100\n",
            "1179/1179 [==============================] - 40s 34ms/step - loss: 0.1817 - accuracy: 0.9705 - val_loss: 0.1548 - val_accuracy: 0.9742\n",
            "Epoch 50/100\n",
            "1179/1179 [==============================] - 25s 21ms/step - loss: 0.1675 - accuracy: 0.9741 - val_loss: 0.1623 - val_accuracy: 0.9742\n",
            "Epoch 51/100\n",
            "1179/1179 [==============================] - 27s 23ms/step - loss: 0.1636 - accuracy: 0.9744 - val_loss: 0.1765 - val_accuracy: 0.9748\n",
            "Epoch 52/100\n",
            "1179/1179 [==============================] - 32s 27ms/step - loss: 0.1617 - accuracy: 0.9737 - val_loss: 0.1871 - val_accuracy: 0.9748\n",
            "Epoch 53/100\n",
            "1179/1179 [==============================] - 30s 26ms/step - loss: 0.1764 - accuracy: 0.9723 - val_loss: 0.1865 - val_accuracy: 0.9748\n",
            "Epoch 54/100\n",
            "1179/1179 [==============================] - 28s 23ms/step - loss: 0.1646 - accuracy: 0.9742 - val_loss: 0.2291 - val_accuracy: 0.9748\n",
            "Epoch 55/100\n",
            "1179/1179 [==============================] - 26s 22ms/step - loss: 0.1591 - accuracy: 0.9743 - val_loss: 0.1823 - val_accuracy: 0.9742\n",
            "Epoch 56/100\n",
            "1179/1179 [==============================] - 29s 24ms/step - loss: 0.1651 - accuracy: 0.9743 - val_loss: 0.1771 - val_accuracy: 0.9725\n",
            "Epoch 57/100\n",
            "1179/1179 [==============================] - 26s 22ms/step - loss: 0.1778 - accuracy: 0.9703 - val_loss: 0.2130 - val_accuracy: 0.9742\n",
            "Epoch 58/100\n",
            "1179/1179 [==============================] - 29s 24ms/step - loss: 0.1816 - accuracy: 0.9744 - val_loss: 0.1787 - val_accuracy: 0.9742\n",
            "Epoch 59/100\n",
            "1179/1179 [==============================] - 29s 25ms/step - loss: 0.1693 - accuracy: 0.9744 - val_loss: 0.1779 - val_accuracy: 0.9743\n",
            "Epoch 60/100\n",
            "1179/1179 [==============================] - 22s 19ms/step - loss: 0.1734 - accuracy: 0.9746 - val_loss: 0.1758 - val_accuracy: 0.9748\n",
            "Epoch 61/100\n",
            "1179/1179 [==============================] - 24s 20ms/step - loss: 0.1709 - accuracy: 0.9748 - val_loss: 0.1806 - val_accuracy: 0.9748\n",
            "Epoch 62/100\n",
            "1179/1179 [==============================] - 22s 19ms/step - loss: 0.1715 - accuracy: 0.9746 - val_loss: 0.1757 - val_accuracy: 0.9748\n",
            "Epoch 63/100\n",
            "1179/1179 [==============================] - 25s 21ms/step - loss: 0.1810 - accuracy: 0.9680 - val_loss: 0.2072 - val_accuracy: 0.9674\n",
            "Epoch 64/100\n",
            "1179/1179 [==============================] - 28s 24ms/step - loss: 0.1874 - accuracy: 0.9731 - val_loss: 0.2006 - val_accuracy: 0.9751\n",
            "Epoch 65/100\n",
            "1179/1179 [==============================] - 20s 17ms/step - loss: 0.1884 - accuracy: 0.9730 - val_loss: 0.2031 - val_accuracy: 0.9748\n",
            "Epoch 66/100\n",
            "1179/1179 [==============================] - 13s 11ms/step - loss: 0.1788 - accuracy: 0.9744 - val_loss: 0.1840 - val_accuracy: 0.9751\n",
            "Epoch 67/100\n",
            "1179/1179 [==============================] - 14s 11ms/step - loss: 0.1807 - accuracy: 0.9728 - val_loss: 0.1820 - val_accuracy: 0.9748\n",
            "Epoch 68/100\n",
            "1179/1179 [==============================] - 15s 13ms/step - loss: 0.1761 - accuracy: 0.9722 - val_loss: 0.2095 - val_accuracy: 0.9738\n",
            "Epoch 69/100\n",
            "1179/1179 [==============================] - 14s 12ms/step - loss: 0.1887 - accuracy: 0.9742 - val_loss: 0.1969 - val_accuracy: 0.9751\n",
            "Epoch 70/100\n",
            "1179/1179 [==============================] - 15s 13ms/step - loss: 0.1949 - accuracy: 0.9745 - val_loss: 0.2032 - val_accuracy: 0.9746\n",
            "Epoch 71/100\n",
            "1179/1179 [==============================] - 15s 13ms/step - loss: 0.1772 - accuracy: 0.9738 - val_loss: 0.1811 - val_accuracy: 0.9751\n",
            "Epoch 72/100\n",
            "1179/1179 [==============================] - 12s 11ms/step - loss: 0.1870 - accuracy: 0.9680 - val_loss: 0.1750 - val_accuracy: 0.9751\n",
            "Epoch 73/100\n",
            "1179/1179 [==============================] - 15s 12ms/step - loss: 0.1870 - accuracy: 0.9737 - val_loss: 0.1811 - val_accuracy: 0.9748\n",
            "Epoch 74/100\n",
            "1179/1179 [==============================] - 13s 11ms/step - loss: 0.1761 - accuracy: 0.9742 - val_loss: 0.1793 - val_accuracy: 0.9748\n",
            "Epoch 75/100\n",
            "1179/1179 [==============================] - 15s 13ms/step - loss: 0.1733 - accuracy: 0.9744 - val_loss: 0.1758 - val_accuracy: 0.9748\n",
            "Epoch 76/100\n",
            "1179/1179 [==============================] - 15s 13ms/step - loss: 0.1744 - accuracy: 0.9745 - val_loss: 0.1738 - val_accuracy: 0.9748\n",
            "Epoch 77/100\n",
            "1179/1179 [==============================] - 16s 13ms/step - loss: 0.1741 - accuracy: 0.9740 - val_loss: 0.1824 - val_accuracy: 0.9748\n",
            "Epoch 78/100\n",
            "1179/1179 [==============================] - 15s 12ms/step - loss: 0.1753 - accuracy: 0.9738 - val_loss: 0.1811 - val_accuracy: 0.9748\n",
            "Epoch 79/100\n",
            "1179/1179 [==============================] - 13s 11ms/step - loss: 0.1772 - accuracy: 0.9728 - val_loss: 0.1729 - val_accuracy: 0.9746\n",
            "Epoch 80/100\n",
            "1179/1179 [==============================] - 14s 12ms/step - loss: 0.1740 - accuracy: 0.9747 - val_loss: 0.1751 - val_accuracy: 0.9748\n",
            "Epoch 81/100\n",
            "1179/1179 [==============================] - 13s 11ms/step - loss: 0.1786 - accuracy: 0.9746 - val_loss: 0.1734 - val_accuracy: 0.9748\n",
            "Epoch 82/100\n",
            "1179/1179 [==============================] - 22s 18ms/step - loss: 0.1812 - accuracy: 0.9748 - val_loss: 0.1861 - val_accuracy: 0.9748\n",
            "Epoch 83/100\n",
            "1179/1179 [==============================] - 22s 18ms/step - loss: 0.1824 - accuracy: 0.9745 - val_loss: 0.2053 - val_accuracy: 0.9748\n",
            "Epoch 84/100\n",
            "1179/1179 [==============================] - 22s 18ms/step - loss: 0.2070 - accuracy: 0.9747 - val_loss: 0.2037 - val_accuracy: 0.9748\n",
            "Epoch 85/100\n",
            "1179/1179 [==============================] - 22s 18ms/step - loss: 0.1747 - accuracy: 0.9739 - val_loss: 0.1788 - val_accuracy: 0.9742\n",
            "Epoch 86/100\n",
            "1179/1179 [==============================] - 21s 18ms/step - loss: 0.1732 - accuracy: 0.9746 - val_loss: 0.1829 - val_accuracy: 0.9748\n",
            "Epoch 87/100\n",
            "1179/1179 [==============================] - 21s 18ms/step - loss: 0.1733 - accuracy: 0.9745 - val_loss: 0.1764 - val_accuracy: 0.9748\n",
            "Epoch 88/100\n",
            "1179/1179 [==============================] - 21s 18ms/step - loss: 0.1882 - accuracy: 0.9746 - val_loss: 0.1986 - val_accuracy: 0.9748\n",
            "Epoch 89/100\n",
            "1179/1179 [==============================] - 21s 18ms/step - loss: 0.1968 - accuracy: 0.9743 - val_loss: 0.1829 - val_accuracy: 0.9746\n",
            "Epoch 90/100\n",
            "1179/1179 [==============================] - 21s 18ms/step - loss: 0.1709 - accuracy: 0.9747 - val_loss: 0.1787 - val_accuracy: 0.9748\n",
            "Epoch 91/100\n",
            "1179/1179 [==============================] - 22s 18ms/step - loss: 0.1884 - accuracy: 0.9719 - val_loss: 0.2003 - val_accuracy: 0.9749\n",
            "Epoch 92/100\n",
            "1179/1179 [==============================] - 22s 18ms/step - loss: 0.1771 - accuracy: 0.9742 - val_loss: 0.1808 - val_accuracy: 0.9746\n",
            "Epoch 93/100\n",
            "1179/1179 [==============================] - 22s 19ms/step - loss: 0.1770 - accuracy: 0.9747 - val_loss: 0.1839 - val_accuracy: 0.9746\n",
            "Epoch 94/100\n",
            "1179/1179 [==============================] - 29s 24ms/step - loss: 0.1778 - accuracy: 0.9746 - val_loss: 0.1967 - val_accuracy: 0.9746\n",
            "Epoch 95/100\n",
            "1179/1179 [==============================] - 27s 23ms/step - loss: 0.1794 - accuracy: 0.9742 - val_loss: 0.1877 - val_accuracy: 0.9746\n",
            "Epoch 96/100\n",
            "1179/1179 [==============================] - 23s 20ms/step - loss: 0.1944 - accuracy: 0.9748 - val_loss: 0.2028 - val_accuracy: 0.9751\n",
            "Epoch 97/100\n",
            "1179/1179 [==============================] - 15s 13ms/step - loss: 0.2061 - accuracy: 0.9749 - val_loss: 0.2130 - val_accuracy: 0.9751\n",
            "Epoch 98/100\n",
            "1179/1179 [==============================] - 13s 11ms/step - loss: 0.2090 - accuracy: 0.9748 - val_loss: 0.2089 - val_accuracy: 0.9748\n",
            "Epoch 99/100\n",
            "1179/1179 [==============================] - 21s 18ms/step - loss: 0.2139 - accuracy: 0.9747 - val_loss: 0.2103 - val_accuracy: 0.9748\n",
            "Epoch 100/100\n",
            "1179/1179 [==============================] - 33s 28ms/step - loss: 0.2313 - accuracy: 0.9746 - val_loss: 0.2106 - val_accuracy: 0.9746\n",
            "295/295 [==============================] - 5s 10ms/step\n"
          ]
        }
      ],
      "source": [
        "regressorGRU = Sequential()\n",
        "# First GRU layer with Dropout regularisation\n",
        "regressorGRU.add(GRU(units=50, return_sequences=True, input_shape=(X_train.shape[1],1), activation='tanh'))\n",
        "regressorGRU.add(Dropout(0.2))\n",
        "# Second GRU layer\n",
        "regressorGRU.add(GRU(units=50, return_sequences=True, input_shape=(X_train.shape[1],1), activation='tanh'))\n",
        "regressorGRU.add(Dropout(0.2))\n",
        "# Third GRU layer\n",
        "regressorGRU.add(GRU(units=50, return_sequences=True, input_shape=(X_train.shape[1],1), activation='tanh'))\n",
        "regressorGRU.add(Dropout(0.2))\n",
        "# Fourth GRU layer\n",
        "regressorGRU.add(GRU(units=50, activation='tanh'))\n",
        "regressorGRU.add(Dropout(0.2))\n",
        "# The output layer\n",
        "regressorGRU.add(Dense(units=1))\n",
        "# Compiling the RNN\n",
        "regressorGRU.compile(optimizer='adam',loss='binary_crossentropy', metrics=['accuracy'])\n",
        "# Fitting to the training set\n",
        "regressorGRU.fit(X_train,y_train,epochs=100,batch_size=32, validation_data=(X_test, y_test))\n",
        "y_pred = regressorGRU.predict(X_test)\n",
        "y_pred_binary = (y_pred > 0.5).astype(int)"
      ]
    },
    {
      "cell_type": "code",
      "execution_count": 7,
      "metadata": {
        "colab": {
          "base_uri": "https://localhost:8080/"
        },
        "id": "dsIzSERK3xSd",
        "outputId": "0cd120a6-e3b0-4748-cc6b-516d3b07590d"
      },
      "outputs": [
        {
          "name": "stdout",
          "output_type": "stream",
          "text": [
            "Confusion Matrix:\n",
            "[[6256    0]\n",
            " [ 239 2931]]\n"
          ]
        }
      ],
      "source": [
        "# Tính confusion matrix\n",
        "conf_matrix = confusion_matrix(y_test, y_pred_binary)\n",
        "print(\"Confusion Matrix:\")\n",
        "print(conf_matrix)"
      ]
    },
    {
      "cell_type": "code",
      "execution_count": 8,
      "metadata": {},
      "outputs": [
        {
          "name": "stdout",
          "output_type": "stream",
          "text": [
            "              precision    recall  f1-score   support\n",
            "\n",
            "           0       0.96      1.00      0.98      6256\n",
            "           1       1.00      0.92      0.96      3170\n",
            "\n",
            "    accuracy                           0.97      9426\n",
            "   macro avg       0.98      0.96      0.97      9426\n",
            "weighted avg       0.98      0.97      0.97      9426\n",
            "\n"
          ]
        }
      ],
      "source": [
        "#Get the evaluation metrics like precision, recall, f1-score\n",
        "from sklearn.metrics import classification_report\n",
        "print(classification_report(y_test, y_pred_binary))\n"
      ]
    }
  ],
  "metadata": {
    "colab": {
      "provenance": []
    },
    "kernelspec": {
      "display_name": "Python 3",
      "name": "python3"
    },
    "language_info": {
      "codemirror_mode": {
        "name": "ipython",
        "version": 3
      },
      "file_extension": ".py",
      "mimetype": "text/x-python",
      "name": "python",
      "nbconvert_exporter": "python",
      "pygments_lexer": "ipython3",
      "version": "3.8.18"
    }
  },
  "nbformat": 4,
  "nbformat_minor": 0
}
