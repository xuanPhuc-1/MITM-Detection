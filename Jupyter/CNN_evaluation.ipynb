{
  "cells": [
    {
      "cell_type": "code",
      "execution_count": 4,
      "metadata": {
        "id": "SeTJsVjI2HC5"
      },
      "outputs": [],
      "source": [
        "import numpy as np\n",
        "from sklearn.model_selection import train_test_split\n",
        "from sklearn.metrics import confusion_matrix\n",
        "import pandas as pd\n",
        "from tensorflow.keras.models import Sequential\n",
        "from tensorflow.keras.layers import Conv1D, MaxPooling1D, Flatten, Dense\n",
        "import seaborn as sns\n",
        "import matplotlib.pyplot as plt\n"
      ]
    },
    {
      "cell_type": "code",
      "execution_count": 5,
      "metadata": {
        "id": "7b8WWrAD2ap9"
      },
      "outputs": [],
      "source": [
        "df = pd.read_csv('~/MITM-Detection/dataset.csv')"
      ]
    },
    {
      "cell_type": "code",
      "execution_count": 6,
      "metadata": {
        "colab": {
          "base_uri": "https://localhost:8080/"
        },
        "id": "YgDEte5k3GRc",
        "outputId": "66c74c63-29fe-4cd2-b26c-46e0cb6f2d94"
      },
      "outputs": [
        {
          "name": "stdout",
          "output_type": "stream",
          "text": [
            "           0  6.666666667  0.1  0.2  0.3\n",
            "0   8.000000    61.666667   24    0    0\n",
            "1  18.000000    43.333333   54    0    0\n",
            "2  23.666667    41.333333   71    0    0\n",
            "3  37.666667    38.333333   91    0    0\n",
            "4  52.333333    25.000000   95    0    0\n"
          ]
        }
      ],
      "source": [
        "\n",
        "# Display the first few rows of the DataFrame\n",
        "print(df.head())\n",
        "\n",
        "# Extract features and labels\n",
        "X = df.iloc[:, :-1]  # Features (all columns except the last one)\n",
        "y = df.iloc[:, -1]   # Labels (last column)\n",
        "\n",
        "# Chia dữ liệu thành tập huấn luyện và tập kiểm tra\n",
        "X_train, X_test, y_train, y_test = train_test_split(X, y, test_size=0.2, random_state=42)\n",
        "\n",
        "# Reshape dữ liệu để phù hợp với đầu vào của Conv1D\n",
        "X_train = X_train.values.reshape(X_train.shape[0], X_train.shape[1], 1)\n",
        "X_test = X_test.values.reshape(X_test.shape[0], X_test.shape[1], 1)"
      ]
    },
    {
      "cell_type": "code",
      "execution_count": 7,
      "metadata": {
        "id": "eodtVSqn3oUK"
      },
      "outputs": [],
      "source": [
        "model = Sequential()\n",
        "model.add(Conv1D(32, kernel_size=3, activation='relu', input_shape=(X_train.shape[1], 1)))\n",
        "model.add(MaxPooling1D(pool_size=2))\n",
        "model.add(Flatten())\n",
        "model.add(Dense(1, activation='sigmoid'))"
      ]
    },
    {
      "cell_type": "code",
      "execution_count": null,
      "metadata": {
        "colab": {
          "base_uri": "https://localhost:8080/"
        },
        "id": "ZC3V-BvQ3uVS",
        "outputId": "3b88535e-cf32-46bd-898e-c3ea88ebabe0"
      },
      "outputs": [],
      "source": [
        "model.compile(optimizer='adam', loss='binary_crossentropy', metrics=['accuracy'])\n",
        "\n",
        "# Huấn luyện mô hình\n",
        "model.fit(X_train, y_train, epochs=100, batch_size=32, validation_data=(X_test, y_test))\n",
        "\n",
        "# Dự đoán trên tập kiểm tra\n",
        "y_pred = model.predict(X_test)\n",
        "y_pred_binary = (y_pred > 0.5).astype(int)"
      ]
    },
    {
      "cell_type": "code",
      "execution_count": null,
      "metadata": {
        "colab": {
          "base_uri": "https://localhost:8080/"
        },
        "id": "dsIzSERK3xSd",
        "outputId": "0cd120a6-e3b0-4748-cc6b-516d3b07590d"
      },
      "outputs": [
        {
          "name": "stdout",
          "output_type": "stream",
          "text": [
            "Confusion Matrix:\n",
            "[[6256    0]\n",
            " [ 242 2928]]\n"
          ]
        }
      ],
      "source": [
        "# Tính confusion matrix\n",
        "conf_matrix = confusion_matrix(y_test, y_pred_binary)\n",
        "print(\"Confusion Matrix:\")\n",
        "print(conf_matrix)"
      ]
    },
    {
      "cell_type": "code",
      "execution_count": null,
      "metadata": {},
      "outputs": [
        {
          "name": "stdout",
          "output_type": "stream",
          "text": [
            "              precision    recall  f1-score   support\n",
            "\n",
            "           0       0.96      1.00      0.98      6256\n",
            "           1       1.00      0.92      0.96      3170\n",
            "\n",
            "    accuracy                           0.97      9426\n",
            "   macro avg       0.98      0.96      0.97      9426\n",
            "weighted avg       0.98      0.97      0.97      9426\n",
            "\n"
          ]
        }
      ],
      "source": [
        "#Get the evaluation metrics like precision, recall, f1-score\n",
        "from sklearn.metrics import classification_report\n",
        "print(classification_report(y_test, y_pred_binary))\n"
      ]
    },
    {
      "cell_type": "code",
      "execution_count": 6,
      "metadata": {},
      "outputs": [],
      "source": [
        "import numpy as np\n",
        "import pandas as pd\n",
        "dt_realtime = pd.read_csv('realtime.csv')\n",
        "sample_to_predict = np.array(dt_realtime)"
      ]
    },
    {
      "cell_type": "code",
      "execution_count": 8,
      "metadata": {},
      "outputs": [
        {
          "ename": "NameError",
          "evalue": "name 'modelName' is not defined",
          "output_type": "error",
          "traceback": [
            "\u001b[0;31m---------------------------------------------------------------------------\u001b[0m",
            "\u001b[0;31mNameError\u001b[0m                                 Traceback (most recent call last)",
            "\u001b[1;32m/home/xp/MITM-Detection/Jupyter/CNN_evaluation.ipynb Cell 9\u001b[0m line \u001b[0;36m7\n\u001b[1;32m      <a href='vscode-notebook-cell:/home/xp/MITM-Detection/Jupyter/CNN_evaluation.ipynb#X10sZmlsZQ%3D%3D?line=3'>4</a>\u001b[0m \u001b[39mimport\u001b[39;00m \u001b[39mnumpy\u001b[39;00m \u001b[39mas\u001b[39;00m \u001b[39mnp\u001b[39;00m\n\u001b[1;32m      <a href='vscode-notebook-cell:/home/xp/MITM-Detection/Jupyter/CNN_evaluation.ipynb#X10sZmlsZQ%3D%3D?line=4'>5</a>\u001b[0m HOME \u001b[39m=\u001b[39m os\u001b[39m.\u001b[39mpath\u001b[39m.\u001b[39mexpanduser(\u001b[39m'\u001b[39m\u001b[39m~\u001b[39m\u001b[39m'\u001b[39m)\n\u001b[0;32m----> <a href='vscode-notebook-cell:/home/xp/MITM-Detection/Jupyter/CNN_evaluation.ipynb#X10sZmlsZQ%3D%3D?line=6'>7</a>\u001b[0m filename \u001b[39m=\u001b[39m HOME \u001b[39m+\u001b[39m \u001b[39m'\u001b[39m\u001b[39m/MITM-Detection/Models/\u001b[39m\u001b[39m'\u001b[39m \u001b[39m+\u001b[39m modelName\n\u001b[1;32m      <a href='vscode-notebook-cell:/home/xp/MITM-Detection/Jupyter/CNN_evaluation.ipynb#X10sZmlsZQ%3D%3D?line=7'>8</a>\u001b[0m classifier \u001b[39m=\u001b[39m pickle\u001b[39m.\u001b[39mload(\u001b[39mopen\u001b[39m(filename, \u001b[39m\"\u001b[39m\u001b[39mrb\u001b[39m\u001b[39m\"\u001b[39m))\n\u001b[1;32m      <a href='vscode-notebook-cell:/home/xp/MITM-Detection/Jupyter/CNN_evaluation.ipynb#X10sZmlsZQ%3D%3D?line=8'>9</a>\u001b[0m dt_realtime \u001b[39m=\u001b[39m pd\u001b[39m.\u001b[39mread_csv(\u001b[39m'\u001b[39m\u001b[39mrealtime.csv\u001b[39m\u001b[39m'\u001b[39m)\n",
            "\u001b[0;31mNameError\u001b[0m: name 'modelName' is not defined"
          ]
        }
      ],
      "source": [
        "from tensorflow.keras.models import Sequential\n",
        "from tensorflow.keras.layers import Conv1D, MaxPooling1D, Flatten, Dense\n",
        "import os\n",
        "import numpy as np\n",
        "HOME = os.path.expanduser('~')\n",
        "modelName = 'CNN'\n",
        "filename = HOME + '/MITM-Detection/Models/' + modelName\n",
        "classifier = pickle.load(open(filename, \"rb\"))\n",
        "dt_realtime = pd.read_csv('realtime.csv')\n",
        "sample_to_predict = np.array(dt_realtime)\n",
        "# reshape the dt_realtime to fit Conv1D with input_shape=(X_train.shape[1], 1))\n",
        "sample_reshaped = np.reshape(\n",
        "    sample_to_predict, (sample_to_predict.shape[0], sample_to_predict.shape[1], 1))\n",
        "# Tạo mới mô hình với kiến trúc tương tự\n",
        "new_model = Sequential()\n",
        "new_model.add(Conv1D(32, kernel_size=3, activation='relu', input_shape=(sample_to_predict.shape[1], 1)))\n",
        "new_model.add(MaxPooling1D(pool_size=2))\n",
        "new_model.add(Flatten())\n",
        "new_model.add(Dense(1, activation='sigmoid'))\n",
        "\n",
        "# Load trọng số từ mô hình đã train trước đó\n",
        "new_model.load_weights(filename + '_weights.h5')\n",
        "\n",
        "# Sử dụng mô hình để predict\n",
        "result = new_model.predict(sample_reshaped)\n"
      ]
    }
  ],
  "metadata": {
    "colab": {
      "provenance": []
    },
    "kernelspec": {
      "display_name": "Python 3",
      "name": "python3"
    },
    "language_info": {
      "codemirror_mode": {
        "name": "ipython",
        "version": 3
      },
      "file_extension": ".py",
      "mimetype": "text/x-python",
      "name": "python",
      "nbconvert_exporter": "python",
      "pygments_lexer": "ipython3",
      "version": "3.8.18"
    }
  },
  "nbformat": 4,
  "nbformat_minor": 0
}
