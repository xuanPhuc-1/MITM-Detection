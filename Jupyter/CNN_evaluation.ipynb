{
  "cells": [
    {
      "cell_type": "code",
      "execution_count": 14,
      "metadata": {
        "id": "SeTJsVjI2HC5"
      },
      "outputs": [],
      "source": [
        "import numpy as np\n",
        "from sklearn.model_selection import train_test_split\n",
        "from sklearn.metrics import confusion_matrix\n",
        "import pandas as pd\n",
        "from tensorflow.keras.models import Sequential\n",
        "from tensorflow.keras.layers import Conv1D, MaxPooling1D, Flatten, Dense\n",
        "import seaborn as sns\n",
        "import matplotlib.pyplot as plt\n"
      ]
    },
    {
      "cell_type": "code",
      "execution_count": 15,
      "metadata": {
        "id": "7b8WWrAD2ap9"
      },
      "outputs": [],
      "source": [
        "df = pd.read_csv('~/MITM-Detection/features-file-2.csv')"
      ]
    },
    {
      "cell_type": "code",
      "execution_count": 16,
      "metadata": {
        "colab": {
          "base_uri": "https://localhost:8080/"
        },
        "id": "YgDEte5k3GRc",
        "outputId": "66c74c63-29fe-4cd2-b26c-46e0cb6f2d94"
      },
      "outputs": [
        {
          "name": "stdout",
          "output_type": "stream",
          "text": [
            "           0  6.666666667  0.1  0.2  0.3\n",
            "0   8.000000    61.666667   24    0    0\n",
            "1  18.000000    43.333333   54    0    0\n",
            "2  23.666667    41.333333   71    0    0\n",
            "3  37.666667    38.333333   91    0    0\n",
            "4  52.333333    25.000000   95    0    0\n"
          ]
        }
      ],
      "source": [
        "\n",
        "# Display the first few rows of the DataFrame\n",
        "print(df.head())\n",
        "\n",
        "# Extract features and labels\n",
        "X = df.iloc[:, :-1]  # Features (all columns except the last one)\n",
        "y = df.iloc[:, -1]   # Labels (last column)\n",
        "\n",
        "# Chia dữ liệu thành tập huấn luyện và tập kiểm tra\n",
        "X_train, X_test, y_train, y_test = train_test_split(X, y, test_size=0.2, random_state=42)\n",
        "\n",
        "# Reshape dữ liệu để phù hợp với đầu vào của Conv1D\n",
        "X_train = X_train.values.reshape(X_train.shape[0], X_train.shape[1], 1)\n",
        "X_test = X_test.values.reshape(X_test.shape[0], X_test.shape[1], 1)"
      ]
    },
    {
      "cell_type": "code",
      "execution_count": 17,
      "metadata": {
        "id": "eodtVSqn3oUK"
      },
      "outputs": [],
      "source": [
        "model = Sequential()\n",
        "model.add(Conv1D(32, kernel_size=3, activation='relu', input_shape=(X_train.shape[1], 1)))\n",
        "model.add(MaxPooling1D(pool_size=2))\n",
        "model.add(Flatten())\n",
        "model.add(Dense(1, activation='sigmoid'))"
      ]
    },
    {
      "cell_type": "code",
      "execution_count": 18,
      "metadata": {
        "colab": {
          "base_uri": "https://localhost:8080/"
        },
        "id": "ZC3V-BvQ3uVS",
        "outputId": "3b88535e-cf32-46bd-898e-c3ea88ebabe0"
      },
      "outputs": [
        {
          "name": "stdout",
          "output_type": "stream",
          "text": [
            "Epoch 1/100\n"
          ]
        },
        {
          "name": "stdout",
          "output_type": "stream",
          "text": [
            "118/118 [==============================] - 2s 5ms/step - loss: 1.1256 - accuracy: 0.5613 - val_loss: 0.6639 - val_accuracy: 0.6575\n",
            "Epoch 2/100\n",
            "118/118 [==============================] - 0s 3ms/step - loss: 0.6334 - accuracy: 0.6411 - val_loss: 0.5897 - val_accuracy: 0.6596\n",
            "Epoch 3/100\n",
            "118/118 [==============================] - 0s 4ms/step - loss: 0.5837 - accuracy: 0.6674 - val_loss: 0.5194 - val_accuracy: 0.7264\n",
            "Epoch 4/100\n",
            "118/118 [==============================] - 1s 5ms/step - loss: 0.5000 - accuracy: 0.8085 - val_loss: 0.4445 - val_accuracy: 0.7900\n",
            "Epoch 5/100\n",
            "118/118 [==============================] - 1s 6ms/step - loss: 0.3969 - accuracy: 0.9072 - val_loss: 0.3333 - val_accuracy: 0.9480\n",
            "Epoch 6/100\n",
            "118/118 [==============================] - 1s 5ms/step - loss: 0.3245 - accuracy: 0.9326 - val_loss: 0.2565 - val_accuracy: 0.9629\n",
            "Epoch 7/100\n",
            "118/118 [==============================] - 1s 5ms/step - loss: 0.2612 - accuracy: 0.9525 - val_loss: 0.2213 - val_accuracy: 0.9629\n",
            "Epoch 8/100\n",
            "118/118 [==============================] - 0s 4ms/step - loss: 0.2323 - accuracy: 0.9541 - val_loss: 0.1963 - val_accuracy: 0.9724\n",
            "Epoch 9/100\n",
            "118/118 [==============================] - 0s 3ms/step - loss: 0.2154 - accuracy: 0.9597 - val_loss: 0.1820 - val_accuracy: 0.9724\n",
            "Epoch 10/100\n",
            "118/118 [==============================] - 0s 3ms/step - loss: 0.2127 - accuracy: 0.9568 - val_loss: 0.1765 - val_accuracy: 0.9735\n",
            "Epoch 11/100\n",
            "118/118 [==============================] - 0s 3ms/step - loss: 0.1999 - accuracy: 0.9597 - val_loss: 0.1725 - val_accuracy: 0.9671\n",
            "Epoch 12/100\n",
            "118/118 [==============================] - 0s 3ms/step - loss: 0.1946 - accuracy: 0.9613 - val_loss: 0.1640 - val_accuracy: 0.9745\n",
            "Epoch 13/100\n",
            "118/118 [==============================] - 0s 3ms/step - loss: 0.1887 - accuracy: 0.9615 - val_loss: 0.1654 - val_accuracy: 0.9735\n",
            "Epoch 14/100\n",
            "118/118 [==============================] - 0s 3ms/step - loss: 0.1888 - accuracy: 0.9605 - val_loss: 0.1743 - val_accuracy: 0.9703\n",
            "Epoch 15/100\n",
            "118/118 [==============================] - 0s 3ms/step - loss: 0.1897 - accuracy: 0.9576 - val_loss: 0.1588 - val_accuracy: 0.9756\n",
            "Epoch 16/100\n",
            "118/118 [==============================] - 0s 3ms/step - loss: 0.1858 - accuracy: 0.9599 - val_loss: 0.1673 - val_accuracy: 0.9650\n",
            "Epoch 17/100\n",
            "118/118 [==============================] - 0s 3ms/step - loss: 0.1805 - accuracy: 0.9599 - val_loss: 0.1590 - val_accuracy: 0.9714\n",
            "Epoch 18/100\n",
            "118/118 [==============================] - 0s 3ms/step - loss: 0.1776 - accuracy: 0.9618 - val_loss: 0.1520 - val_accuracy: 0.9756\n",
            "Epoch 19/100\n",
            "118/118 [==============================] - 0s 3ms/step - loss: 0.1777 - accuracy: 0.9594 - val_loss: 0.1521 - val_accuracy: 0.9756\n",
            "Epoch 20/100\n",
            "118/118 [==============================] - 0s 3ms/step - loss: 0.1762 - accuracy: 0.9615 - val_loss: 0.1541 - val_accuracy: 0.9745\n",
            "Epoch 21/100\n",
            "118/118 [==============================] - 0s 3ms/step - loss: 0.1722 - accuracy: 0.9621 - val_loss: 0.1506 - val_accuracy: 0.9735\n",
            "Epoch 22/100\n",
            "118/118 [==============================] - 0s 3ms/step - loss: 0.1703 - accuracy: 0.9597 - val_loss: 0.1572 - val_accuracy: 0.9692\n",
            "Epoch 23/100\n",
            "118/118 [==============================] - 0s 3ms/step - loss: 0.1747 - accuracy: 0.9586 - val_loss: 0.1494 - val_accuracy: 0.9756\n",
            "Epoch 24/100\n",
            "118/118 [==============================] - 0s 4ms/step - loss: 0.1686 - accuracy: 0.9621 - val_loss: 0.1598 - val_accuracy: 0.9724\n",
            "Epoch 25/100\n",
            "118/118 [==============================] - 1s 6ms/step - loss: 0.1669 - accuracy: 0.9602 - val_loss: 0.1673 - val_accuracy: 0.9692\n",
            "Epoch 26/100\n",
            "118/118 [==============================] - 0s 4ms/step - loss: 0.1698 - accuracy: 0.9602 - val_loss: 0.1474 - val_accuracy: 0.9745\n",
            "Epoch 27/100\n",
            "118/118 [==============================] - 0s 4ms/step - loss: 0.1653 - accuracy: 0.9615 - val_loss: 0.1582 - val_accuracy: 0.9724\n",
            "Epoch 28/100\n",
            "118/118 [==============================] - 0s 4ms/step - loss: 0.1610 - accuracy: 0.9618 - val_loss: 0.1608 - val_accuracy: 0.9661\n",
            "Epoch 29/100\n",
            "118/118 [==============================] - 0s 3ms/step - loss: 0.1653 - accuracy: 0.9605 - val_loss: 0.1757 - val_accuracy: 0.9650\n",
            "Epoch 30/100\n",
            "118/118 [==============================] - 0s 3ms/step - loss: 0.1608 - accuracy: 0.9615 - val_loss: 0.1513 - val_accuracy: 0.9756\n",
            "Epoch 31/100\n",
            "118/118 [==============================] - 0s 3ms/step - loss: 0.1671 - accuracy: 0.9597 - val_loss: 0.1445 - val_accuracy: 0.9767\n",
            "Epoch 32/100\n",
            "118/118 [==============================] - 1s 5ms/step - loss: 0.1560 - accuracy: 0.9621 - val_loss: 0.1420 - val_accuracy: 0.9767\n",
            "Epoch 33/100\n",
            "118/118 [==============================] - 1s 4ms/step - loss: 0.1516 - accuracy: 0.9637 - val_loss: 0.1425 - val_accuracy: 0.9777\n",
            "Epoch 34/100\n",
            "118/118 [==============================] - 0s 4ms/step - loss: 0.1556 - accuracy: 0.9629 - val_loss: 0.1443 - val_accuracy: 0.9756\n",
            "Epoch 35/100\n",
            "118/118 [==============================] - 0s 4ms/step - loss: 0.1500 - accuracy: 0.9634 - val_loss: 0.1416 - val_accuracy: 0.9767\n",
            "Epoch 36/100\n",
            "118/118 [==============================] - 1s 5ms/step - loss: 0.1569 - accuracy: 0.9602 - val_loss: 0.1445 - val_accuracy: 0.9756\n",
            "Epoch 37/100\n",
            "118/118 [==============================] - 0s 4ms/step - loss: 0.1513 - accuracy: 0.9629 - val_loss: 0.1435 - val_accuracy: 0.9777\n",
            "Epoch 38/100\n",
            "118/118 [==============================] - 0s 4ms/step - loss: 0.1558 - accuracy: 0.9626 - val_loss: 0.1418 - val_accuracy: 0.9745\n",
            "Epoch 39/100\n",
            "118/118 [==============================] - 0s 3ms/step - loss: 0.1487 - accuracy: 0.9615 - val_loss: 0.1395 - val_accuracy: 0.9767\n",
            "Epoch 40/100\n",
            "118/118 [==============================] - 0s 4ms/step - loss: 0.1497 - accuracy: 0.9642 - val_loss: 0.1419 - val_accuracy: 0.9767\n",
            "Epoch 41/100\n",
            "118/118 [==============================] - 0s 4ms/step - loss: 0.1469 - accuracy: 0.9631 - val_loss: 0.1396 - val_accuracy: 0.9767\n",
            "Epoch 42/100\n",
            "118/118 [==============================] - 0s 4ms/step - loss: 0.1521 - accuracy: 0.9618 - val_loss: 0.1710 - val_accuracy: 0.9618\n",
            "Epoch 43/100\n",
            "118/118 [==============================] - 0s 4ms/step - loss: 0.1495 - accuracy: 0.9629 - val_loss: 0.1406 - val_accuracy: 0.9756\n",
            "Epoch 44/100\n",
            "118/118 [==============================] - 0s 4ms/step - loss: 0.1450 - accuracy: 0.9639 - val_loss: 0.1461 - val_accuracy: 0.9735\n",
            "Epoch 45/100\n",
            "118/118 [==============================] - 0s 4ms/step - loss: 0.1470 - accuracy: 0.9615 - val_loss: 0.1383 - val_accuracy: 0.9767\n",
            "Epoch 46/100\n",
            "118/118 [==============================] - 0s 4ms/step - loss: 0.1497 - accuracy: 0.9621 - val_loss: 0.1562 - val_accuracy: 0.9703\n",
            "Epoch 47/100\n",
            "118/118 [==============================] - 0s 4ms/step - loss: 0.1461 - accuracy: 0.9634 - val_loss: 0.1435 - val_accuracy: 0.9745\n",
            "Epoch 48/100\n",
            "118/118 [==============================] - 0s 4ms/step - loss: 0.1456 - accuracy: 0.9650 - val_loss: 0.1482 - val_accuracy: 0.9682\n",
            "Epoch 49/100\n",
            "118/118 [==============================] - 0s 4ms/step - loss: 0.1445 - accuracy: 0.9642 - val_loss: 0.1354 - val_accuracy: 0.9777\n",
            "Epoch 50/100\n",
            "118/118 [==============================] - 0s 4ms/step - loss: 0.1437 - accuracy: 0.9645 - val_loss: 0.1639 - val_accuracy: 0.9650\n",
            "Epoch 51/100\n",
            "118/118 [==============================] - 0s 4ms/step - loss: 0.1439 - accuracy: 0.9647 - val_loss: 0.1377 - val_accuracy: 0.9767\n",
            "Epoch 52/100\n",
            "118/118 [==============================] - 0s 4ms/step - loss: 0.1445 - accuracy: 0.9645 - val_loss: 0.1402 - val_accuracy: 0.9745\n",
            "Epoch 53/100\n",
            "118/118 [==============================] - 1s 5ms/step - loss: 0.1448 - accuracy: 0.9647 - val_loss: 0.1384 - val_accuracy: 0.9756\n",
            "Epoch 54/100\n",
            "118/118 [==============================] - 0s 4ms/step - loss: 0.1406 - accuracy: 0.9653 - val_loss: 0.1431 - val_accuracy: 0.9714\n",
            "Epoch 55/100\n",
            "118/118 [==============================] - 0s 4ms/step - loss: 0.1452 - accuracy: 0.9618 - val_loss: 0.1372 - val_accuracy: 0.9767\n",
            "Epoch 56/100\n",
            "118/118 [==============================] - 0s 4ms/step - loss: 0.1410 - accuracy: 0.9650 - val_loss: 0.1416 - val_accuracy: 0.9714\n",
            "Epoch 57/100\n",
            "118/118 [==============================] - 0s 3ms/step - loss: 0.1407 - accuracy: 0.9655 - val_loss: 0.1343 - val_accuracy: 0.9767\n",
            "Epoch 58/100\n",
            "118/118 [==============================] - 0s 3ms/step - loss: 0.1434 - accuracy: 0.9642 - val_loss: 0.1382 - val_accuracy: 0.9735\n",
            "Epoch 59/100\n",
            "118/118 [==============================] - 0s 3ms/step - loss: 0.1393 - accuracy: 0.9645 - val_loss: 0.1341 - val_accuracy: 0.9777\n",
            "Epoch 60/100\n",
            "118/118 [==============================] - 0s 3ms/step - loss: 0.1387 - accuracy: 0.9653 - val_loss: 0.1358 - val_accuracy: 0.9735\n",
            "Epoch 61/100\n",
            "118/118 [==============================] - 0s 3ms/step - loss: 0.1388 - accuracy: 0.9658 - val_loss: 0.1341 - val_accuracy: 0.9745\n",
            "Epoch 62/100\n",
            "118/118 [==============================] - 0s 3ms/step - loss: 0.1376 - accuracy: 0.9653 - val_loss: 0.1365 - val_accuracy: 0.9756\n",
            "Epoch 63/100\n",
            "118/118 [==============================] - 0s 3ms/step - loss: 0.1355 - accuracy: 0.9663 - val_loss: 0.1322 - val_accuracy: 0.9756\n",
            "Epoch 64/100\n",
            "118/118 [==============================] - 0s 3ms/step - loss: 0.1361 - accuracy: 0.9655 - val_loss: 0.1315 - val_accuracy: 0.9756\n",
            "Epoch 65/100\n",
            "118/118 [==============================] - 0s 3ms/step - loss: 0.1355 - accuracy: 0.9674 - val_loss: 0.1370 - val_accuracy: 0.9745\n",
            "Epoch 66/100\n",
            "118/118 [==============================] - 0s 3ms/step - loss: 0.1334 - accuracy: 0.9668 - val_loss: 0.1303 - val_accuracy: 0.9756\n",
            "Epoch 67/100\n",
            "118/118 [==============================] - 0s 3ms/step - loss: 0.1380 - accuracy: 0.9658 - val_loss: 0.1311 - val_accuracy: 0.9756\n",
            "Epoch 68/100\n",
            "118/118 [==============================] - 0s 3ms/step - loss: 0.1342 - accuracy: 0.9660 - val_loss: 0.1304 - val_accuracy: 0.9767\n",
            "Epoch 69/100\n",
            "118/118 [==============================] - 0s 3ms/step - loss: 0.1333 - accuracy: 0.9676 - val_loss: 0.1287 - val_accuracy: 0.9756\n",
            "Epoch 70/100\n",
            "118/118 [==============================] - 0s 4ms/step - loss: 0.1439 - accuracy: 0.9645 - val_loss: 0.1280 - val_accuracy: 0.9767\n",
            "Epoch 71/100\n",
            "118/118 [==============================] - 0s 3ms/step - loss: 0.1339 - accuracy: 0.9666 - val_loss: 0.1289 - val_accuracy: 0.9756\n",
            "Epoch 72/100\n",
            "118/118 [==============================] - 0s 3ms/step - loss: 0.1309 - accuracy: 0.9668 - val_loss: 0.1442 - val_accuracy: 0.9735\n",
            "Epoch 73/100\n",
            "118/118 [==============================] - 0s 3ms/step - loss: 0.1304 - accuracy: 0.9674 - val_loss: 0.1329 - val_accuracy: 0.9703\n",
            "Epoch 74/100\n",
            "118/118 [==============================] - 0s 3ms/step - loss: 0.1301 - accuracy: 0.9660 - val_loss: 0.1296 - val_accuracy: 0.9714\n",
            "Epoch 75/100\n",
            "118/118 [==============================] - 0s 3ms/step - loss: 0.1301 - accuracy: 0.9674 - val_loss: 0.1333 - val_accuracy: 0.9735\n",
            "Epoch 76/100\n",
            "118/118 [==============================] - 0s 3ms/step - loss: 0.1315 - accuracy: 0.9676 - val_loss: 0.1280 - val_accuracy: 0.9756\n",
            "Epoch 77/100\n",
            "118/118 [==============================] - 0s 3ms/step - loss: 0.1287 - accuracy: 0.9682 - val_loss: 0.1341 - val_accuracy: 0.9735\n",
            "Epoch 78/100\n",
            "118/118 [==============================] - 1s 4ms/step - loss: 0.1300 - accuracy: 0.9663 - val_loss: 0.1344 - val_accuracy: 0.9703\n",
            "Epoch 79/100\n",
            "118/118 [==============================] - 0s 3ms/step - loss: 0.1297 - accuracy: 0.9666 - val_loss: 0.1258 - val_accuracy: 0.9745\n",
            "Epoch 80/100\n",
            "118/118 [==============================] - 0s 3ms/step - loss: 0.1259 - accuracy: 0.9684 - val_loss: 0.1264 - val_accuracy: 0.9756\n",
            "Epoch 81/100\n",
            "118/118 [==============================] - 0s 4ms/step - loss: 0.1313 - accuracy: 0.9655 - val_loss: 0.1230 - val_accuracy: 0.9756\n",
            "Epoch 82/100\n",
            "118/118 [==============================] - 0s 3ms/step - loss: 0.1260 - accuracy: 0.9684 - val_loss: 0.1278 - val_accuracy: 0.9745\n",
            "Epoch 83/100\n",
            "118/118 [==============================] - 0s 3ms/step - loss: 0.1229 - accuracy: 0.9692 - val_loss: 0.1296 - val_accuracy: 0.9735\n",
            "Epoch 84/100\n",
            "118/118 [==============================] - 0s 3ms/step - loss: 0.1279 - accuracy: 0.9660 - val_loss: 0.1296 - val_accuracy: 0.9714\n",
            "Epoch 85/100\n",
            "118/118 [==============================] - 1s 5ms/step - loss: 0.1229 - accuracy: 0.9687 - val_loss: 0.1248 - val_accuracy: 0.9756\n",
            "Epoch 86/100\n",
            "118/118 [==============================] - 0s 4ms/step - loss: 0.1243 - accuracy: 0.9679 - val_loss: 0.1219 - val_accuracy: 0.9756\n",
            "Epoch 87/100\n",
            "118/118 [==============================] - 0s 3ms/step - loss: 0.1258 - accuracy: 0.9668 - val_loss: 0.1215 - val_accuracy: 0.9756\n",
            "Epoch 88/100\n",
            "118/118 [==============================] - 0s 3ms/step - loss: 0.1220 - accuracy: 0.9695 - val_loss: 0.1314 - val_accuracy: 0.9735\n",
            "Epoch 89/100\n",
            "118/118 [==============================] - 0s 3ms/step - loss: 0.1215 - accuracy: 0.9690 - val_loss: 0.1185 - val_accuracy: 0.9767\n",
            "Epoch 90/100\n",
            "118/118 [==============================] - 0s 3ms/step - loss: 0.1243 - accuracy: 0.9682 - val_loss: 0.1211 - val_accuracy: 0.9756\n",
            "Epoch 91/100\n",
            "118/118 [==============================] - 0s 3ms/step - loss: 0.1195 - accuracy: 0.9692 - val_loss: 0.1194 - val_accuracy: 0.9756\n",
            "Epoch 92/100\n",
            "118/118 [==============================] - 0s 3ms/step - loss: 0.1223 - accuracy: 0.9668 - val_loss: 0.1195 - val_accuracy: 0.9756\n",
            "Epoch 93/100\n",
            "118/118 [==============================] - 0s 3ms/step - loss: 0.1213 - accuracy: 0.9684 - val_loss: 0.1366 - val_accuracy: 0.9671\n",
            "Epoch 94/100\n",
            "118/118 [==============================] - 0s 3ms/step - loss: 0.1225 - accuracy: 0.9668 - val_loss: 0.1196 - val_accuracy: 0.9745\n",
            "Epoch 95/100\n",
            "118/118 [==============================] - 0s 3ms/step - loss: 0.1229 - accuracy: 0.9666 - val_loss: 0.1160 - val_accuracy: 0.9767\n",
            "Epoch 96/100\n",
            "118/118 [==============================] - 0s 3ms/step - loss: 0.1183 - accuracy: 0.9695 - val_loss: 0.1197 - val_accuracy: 0.9756\n",
            "Epoch 97/100\n",
            "118/118 [==============================] - 0s 4ms/step - loss: 0.1168 - accuracy: 0.9692 - val_loss: 0.1173 - val_accuracy: 0.9756\n",
            "Epoch 98/100\n",
            "118/118 [==============================] - 0s 3ms/step - loss: 0.1183 - accuracy: 0.9684 - val_loss: 0.1348 - val_accuracy: 0.9724\n",
            "Epoch 99/100\n",
            "118/118 [==============================] - 0s 3ms/step - loss: 0.1156 - accuracy: 0.9690 - val_loss: 0.1179 - val_accuracy: 0.9756\n",
            "Epoch 100/100\n",
            "118/118 [==============================] - 0s 3ms/step - loss: 0.1253 - accuracy: 0.9663 - val_loss: 0.1255 - val_accuracy: 0.9745\n",
            "30/30 [==============================] - 0s 4ms/step\n"
          ]
        }
      ],
      "source": [
        "model.compile(optimizer='adam', loss='binary_crossentropy', metrics=['accuracy'])\n",
        "\n",
        "# Huấn luyện mô hình\n",
        "model.fit(X_train, y_train, epochs=100, batch_size=32, validation_data=(X_test, y_test))\n",
        "\n",
        "# Dự đoán trên tập kiểm tra\n",
        "y_pred = model.predict(X_test)\n",
        "y_pred_binary = (y_pred > 0.5).astype(int)"
      ]
    },
    {
      "cell_type": "code",
      "execution_count": 19,
      "metadata": {
        "colab": {
          "base_uri": "https://localhost:8080/"
        },
        "id": "dsIzSERK3xSd",
        "outputId": "0cd120a6-e3b0-4748-cc6b-516d3b07590d"
      },
      "outputs": [
        {
          "name": "stdout",
          "output_type": "stream",
          "text": [
            "Confusion Matrix:\n",
            "[[624   3]\n",
            " [ 21 295]]\n"
          ]
        }
      ],
      "source": [
        "# Tính confusion matrix\n",
        "conf_matrix = confusion_matrix(y_test, y_pred_binary)\n",
        "print(\"Confusion Matrix:\")\n",
        "print(conf_matrix)"
      ]
    },
    {
      "cell_type": "code",
      "execution_count": 22,
      "metadata": {},
      "outputs": [
        {
          "name": "stdout",
          "output_type": "stream",
          "text": [
            "              precision    recall  f1-score   support\n",
            "\n",
            "           0       0.97      1.00      0.98       627\n",
            "           1       0.99      0.93      0.96       316\n",
            "\n",
            "    accuracy                           0.97       943\n",
            "   macro avg       0.98      0.96      0.97       943\n",
            "weighted avg       0.97      0.97      0.97       943\n",
            "\n"
          ]
        }
      ],
      "source": [
        "#Get the evaluation metrics like precision, recall, f1-score\n",
        "from sklearn.metrics import classification_report\n",
        "print(classification_report(y_test, y_pred_binary))\n"
      ]
    },
    {
      "cell_type": "code",
      "execution_count": 21,
      "metadata": {
        "colab": {
          "base_uri": "https://localhost:8080/",
          "height": 472
        },
        "id": "WJsTVxUu4GbK",
        "outputId": "dca15ca4-b25b-437b-8bde-3d882580757f"
      },
      "outputs": [
        {
          "data": {
            "image/png": "[encoded data removed]",
            "text/plain": [
              "<Figure size 640x480 with 1 Axes>"
            ]
          },
          "metadata": {},
          "output_type": "display_data"
        }
      ],
      "source": [
        "# Hiển thị heatmap cho confusion matrix\n",
        "sns.heatmap(conf_matrix, annot=True, fmt='d', cmap='Blues', cbar=False,\n",
        "            xticklabels=['Class 0', 'Class 1'], yticklabels=['Class 0', 'Class 1'])\n",
        "plt.xlabel('Predicted')\n",
        "plt.ylabel('Actual')\n",
        "plt.title('Confusion Matrix Heatmap')\n",
        "plt.show()"
      ]
    }
  ],
  "metadata": {
    "colab": {
      "provenance": []
    },
    "kernelspec": {
      "display_name": "Python 3",
      "name": "python3"
    },
    "language_info": {
      "codemirror_mode": {
        "name": "ipython",
        "version": 3
      },
      "file_extension": ".py",
      "mimetype": "text/x-python",
      "name": "python",
      "nbconvert_exporter": "python",
      "pygments_lexer": "ipython3",
      "version": "3.8.18"
    }
  },
  "nbformat": 4,
  "nbformat_minor": 0
}
